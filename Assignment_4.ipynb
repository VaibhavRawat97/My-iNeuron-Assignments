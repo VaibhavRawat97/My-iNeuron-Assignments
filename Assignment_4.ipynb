{
 "cells": [
  {
   "cell_type": "code",
   "execution_count": null,
   "id": "0444e023",
   "metadata": {},
   "outputs": [],
   "source": [
    "#1. What exactly is []?\n",
    "#Answer\n",
    "#In Python, [] represents an empty list, which is a collection of items enclosed within square brackets. A list is a versatile data structure that can store multiple values, including numbers, strings, other lists, and more. An empty list is simply a list with no items in it."
   ]
  },
  {
   "cell_type": "code",
   "execution_count": 2,
   "id": "016598b5",
   "metadata": {},
   "outputs": [],
   "source": [
    "#2. In a list of values stored in a variable called spam, how would you assign the value 'hello' as the third value? (Assume [2, 4, 6, 8, 10] are in spam.)\n",
    "#Let's pretend the spam includes the list ['a', 'b', 'c', 'd'] for the next three queries.\n",
    "#Answer\n",
    "#To assign the value 'hello' as the third value in the list stored in the variable spam, I will use indexing."
   ]
  },
  {
   "cell_type": "code",
   "execution_count": 5,
   "id": "579b5580",
   "metadata": {},
   "outputs": [
    {
     "name": "stdout",
     "output_type": "stream",
     "text": [
      "[2, 4, 'hello', 8, 10]\n"
     ]
    }
   ],
   "source": [
    "spam = [2, 4, 6, 8, 10]\n",
    "spam[2] = 'hello'\n",
    "print(spam)"
   ]
  },
  {
   "cell_type": "code",
   "execution_count": 6,
   "id": "67b1b9e1",
   "metadata": {},
   "outputs": [
    {
     "data": {
      "text/plain": [
       "8"
      ]
     },
     "execution_count": 6,
     "metadata": {},
     "output_type": "execute_result"
    }
   ],
   "source": [
    "#3. What is the value of spam[int(int('3' * 2) / 11)]?\n",
    "#Answer\n",
    "spam[int(int('3' * 2) / 11)]"
   ]
  },
  {
   "cell_type": "code",
   "execution_count": 7,
   "id": "8ea06d5d",
   "metadata": {},
   "outputs": [],
   "source": [
    "#4. What is the value of spam[-1]?"
   ]
  },
  {
   "cell_type": "code",
   "execution_count": 8,
   "id": "8629be2b",
   "metadata": {},
   "outputs": [
    {
     "data": {
      "text/plain": [
       "10"
      ]
     },
     "execution_count": 8,
     "metadata": {},
     "output_type": "execute_result"
    }
   ],
   "source": [
    "spam[-1]"
   ]
  },
  {
   "cell_type": "code",
   "execution_count": 9,
   "id": "a8227c44",
   "metadata": {},
   "outputs": [],
   "source": [
    "#5. What is the value of spam[:2]?"
   ]
  },
  {
   "cell_type": "code",
   "execution_count": 10,
   "id": "3c347ed0",
   "metadata": {},
   "outputs": [
    {
     "data": {
      "text/plain": [
       "[2, 4]"
      ]
     },
     "execution_count": 10,
     "metadata": {},
     "output_type": "execute_result"
    }
   ],
   "source": [
    "spam[:2]"
   ]
  },
  {
   "cell_type": "code",
   "execution_count": 11,
   "id": "5b59d8c3",
   "metadata": {},
   "outputs": [],
   "source": [
    "#Let's pretend bacon has the list [3.14, 'cat,' 11, 'cat,' True] for the next three questions."
   ]
  },
  {
   "cell_type": "code",
   "execution_count": 18,
   "id": "754ad789",
   "metadata": {},
   "outputs": [],
   "source": [
    "bacon = [3.14,'cat','11','cat',True]"
   ]
  },
  {
   "cell_type": "code",
   "execution_count": 19,
   "id": "646f7d6a",
   "metadata": {},
   "outputs": [],
   "source": [
    "#6. What is the value of bacon.index('cat')?"
   ]
  },
  {
   "cell_type": "code",
   "execution_count": 20,
   "id": "03245fea",
   "metadata": {},
   "outputs": [
    {
     "data": {
      "text/plain": [
       "1"
      ]
     },
     "execution_count": 20,
     "metadata": {},
     "output_type": "execute_result"
    }
   ],
   "source": [
    "bacon.index('cat')"
   ]
  },
  {
   "cell_type": "code",
   "execution_count": 21,
   "id": "1d81f744",
   "metadata": {},
   "outputs": [],
   "source": [
    "#7. How does bacon.append(99) change the look of the list value in bacon?"
   ]
  },
  {
   "cell_type": "code",
   "execution_count": 22,
   "id": "dc3ec296",
   "metadata": {},
   "outputs": [],
   "source": [
    "bacon.append(99)"
   ]
  },
  {
   "cell_type": "code",
   "execution_count": 23,
   "id": "6afe9d79",
   "metadata": {},
   "outputs": [
    {
     "name": "stdout",
     "output_type": "stream",
     "text": [
      "[3.14, 'cat', '11', 'cat', True, 99]\n"
     ]
    }
   ],
   "source": [
    "print(bacon)"
   ]
  },
  {
   "cell_type": "code",
   "execution_count": 24,
   "id": "1d28b9db",
   "metadata": {},
   "outputs": [],
   "source": [
    "#8. How does bacon.remove('cat') change the look of the list in bacon?"
   ]
  },
  {
   "cell_type": "code",
   "execution_count": 25,
   "id": "345ad100",
   "metadata": {},
   "outputs": [],
   "source": [
    "bacon.remove('cat')"
   ]
  },
  {
   "cell_type": "code",
   "execution_count": 26,
   "id": "13c40a15",
   "metadata": {},
   "outputs": [
    {
     "name": "stdout",
     "output_type": "stream",
     "text": [
      "[3.14, '11', 'cat', True, 99]\n"
     ]
    }
   ],
   "source": [
    "print(bacon)"
   ]
  },
  {
   "cell_type": "code",
   "execution_count": 27,
   "id": "cef74d0d",
   "metadata": {},
   "outputs": [],
   "source": [
    "#9. What are the list concatenation and list replication operators?"
   ]
  },
  {
   "cell_type": "code",
   "execution_count": 28,
   "id": "5f1031e6",
   "metadata": {},
   "outputs": [],
   "source": [
    "#Answer\n",
    "#The + operator is used to concatenate or combine two or more lists into a single list. It creates a new list containing all the elements from the operands."
   ]
  },
  {
   "cell_type": "code",
   "execution_count": 29,
   "id": "eef5c549",
   "metadata": {},
   "outputs": [
    {
     "name": "stdout",
     "output_type": "stream",
     "text": [
      "[1, 2, 3, 4, 5, 6]\n"
     ]
    }
   ],
   "source": [
    "list1 = [1, 2, 3]\n",
    "list2 = [4, 5, 6]\n",
    "\n",
    "concatenated_list = list1 + list2\n",
    "print(concatenated_list)"
   ]
  },
  {
   "cell_type": "code",
   "execution_count": 30,
   "id": "88be5a3c",
   "metadata": {},
   "outputs": [],
   "source": [
    "#The * operator, when used with a list and an integer, replicates the elements of the list by the specified number of times, creating a new list."
   ]
  },
  {
   "cell_type": "code",
   "execution_count": 31,
   "id": "15589c3f",
   "metadata": {},
   "outputs": [
    {
     "name": "stdout",
     "output_type": "stream",
     "text": [
      "[1, 2, 3, 1, 2, 3, 1, 2, 3]\n"
     ]
    }
   ],
   "source": [
    "original_list = [1, 2, 3]\n",
    "replicated_list = original_list * 3\n",
    "print(replicated_list)"
   ]
  },
  {
   "cell_type": "code",
   "execution_count": 32,
   "id": "8cd10637",
   "metadata": {},
   "outputs": [],
   "source": [
    "#10. What is difference between the list methods append() and insert()?"
   ]
  },
  {
   "cell_type": "code",
   "execution_count": 33,
   "id": "6382a80c",
   "metadata": {},
   "outputs": [],
   "source": [
    "#Answer\n",
    "#The append() method is used to add an element to the end of a list. It takes a single argument, which is the element you want to add to the list. The element is added as the last item in the list."
   ]
  },
  {
   "cell_type": "code",
   "execution_count": 34,
   "id": "af5cea7e",
   "metadata": {},
   "outputs": [
    {
     "name": "stdout",
     "output_type": "stream",
     "text": [
      "[1, 2, 3, 4]\n"
     ]
    }
   ],
   "source": [
    "my_list = [1, 2, 3]\n",
    "my_list.append(4)\n",
    "print(my_list)"
   ]
  },
  {
   "cell_type": "code",
   "execution_count": 35,
   "id": "66c09fe7",
   "metadata": {},
   "outputs": [],
   "source": [
    "#The insert() method is used to add an element at a specific index within the list. It takes two arguments: the index at which you want to insert the element, and the element itself. The existing elements at and after the specified index are shifted to the right to accommodate the new element."
   ]
  },
  {
   "cell_type": "code",
   "execution_count": 36,
   "id": "c7011a16",
   "metadata": {},
   "outputs": [
    {
     "name": "stdout",
     "output_type": "stream",
     "text": [
      "[1, 10, 2, 3]\n"
     ]
    }
   ],
   "source": [
    "my_list = [1, 2, 3]\n",
    "my_list.insert(1, 10)\n",
    "print(my_list)"
   ]
  },
  {
   "cell_type": "code",
   "execution_count": 37,
   "id": "241484db",
   "metadata": {},
   "outputs": [],
   "source": [
    "#11. What are the two methods for removing items from a list?"
   ]
  },
  {
   "cell_type": "code",
   "execution_count": 38,
   "id": "044277ea",
   "metadata": {},
   "outputs": [],
   "source": [
    "#Answer\n",
    "#There are two main methods for removing items from a list in Python: pop() and remove().\n",
    "#The pop() method is used to remove an item from a list based on its index. It takes an optional index argument that specifies which item to remove. If no index is provided, it removes and returns the last item by default. The method returns the removed item."
   ]
  },
  {
   "cell_type": "code",
   "execution_count": 39,
   "id": "27fde910",
   "metadata": {},
   "outputs": [
    {
     "name": "stdout",
     "output_type": "stream",
     "text": [
      "[1, 2, 4, 5]\n",
      "3\n"
     ]
    }
   ],
   "source": [
    "my_list = [1, 2, 3, 4, 5]\n",
    "removed_item = my_list.pop(2)  \n",
    "print(my_list) \n",
    "print(removed_item)"
   ]
  },
  {
   "cell_type": "code",
   "execution_count": 40,
   "id": "be8bc53c",
   "metadata": {},
   "outputs": [],
   "source": [
    "#The remove() method is used to remove a specific value from a list. It takes the value you want to remove as an argument. It removes the first occurrence of the specified value. If the value is not found in the list, it raises a ValueError."
   ]
  },
  {
   "cell_type": "code",
   "execution_count": 41,
   "id": "cdab36fc",
   "metadata": {},
   "outputs": [
    {
     "name": "stdout",
     "output_type": "stream",
     "text": [
      "[1, 2, 4, 5]\n"
     ]
    }
   ],
   "source": [
    "my_list = [1, 2, 3, 4, 5]\n",
    "my_list.remove(3)  \n",
    "print(my_list)"
   ]
  },
  {
   "cell_type": "code",
   "execution_count": 42,
   "id": "015d8e7a",
   "metadata": {},
   "outputs": [],
   "source": [
    "#12. Describe how list values and string values are identical."
   ]
  },
  {
   "cell_type": "code",
   "execution_count": 44,
   "id": "4449f86c",
   "metadata": {},
   "outputs": [],
   "source": [
    "#Answer"
   ]
  },
  {
   "cell_type": "code",
   "execution_count": 45,
   "id": "45bf1b68",
   "metadata": {},
   "outputs": [],
   "source": [
    "#List values and string values in Python share several similarities, but they are also distinct data types with their own characteristics. Here's a comparison of some similarities and differences:\n",
    "\n",
    "#Similarities:\n",
    "\n",
    "#Sequential Collection: Both lists and strings are sequential collections of items. In a list, these items can be of various data types (numbers, strings, other lists, etc.), while in a string, the items are characters.\n",
    "\n",
    "#Indexing: Both lists and strings can be accessed using index numbers. You can retrieve individual elements by specifying their position within square brackets.\n",
    "\n",
    "#Slicing: Both lists and strings support slicing, which allows you to extract subsequences of items using index ranges.\n",
    "\n",
    "#Iteration: You can iterate over both lists and strings using loops (e.g., for loops) to process each element or character."
   ]
  },
  {
   "cell_type": "code",
   "execution_count": 46,
   "id": "eeda3a30",
   "metadata": {},
   "outputs": [],
   "source": [
    "#13. What's the difference between tuples and lists?"
   ]
  },
  {
   "cell_type": "code",
   "execution_count": 47,
   "id": "4c5ff362",
   "metadata": {},
   "outputs": [],
   "source": [
    "#Answer"
   ]
  },
  {
   "cell_type": "code",
   "execution_count": 55,
   "id": "38d91230",
   "metadata": {},
   "outputs": [],
   "source": [
    "my_list = [1, 2, 3]"
   ]
  },
  {
   "cell_type": "code",
   "execution_count": 56,
   "id": "b5782214",
   "metadata": {},
   "outputs": [
    {
     "name": "stdout",
     "output_type": "stream",
     "text": [
      "[4, 2, 3]\n"
     ]
    }
   ],
   "source": [
    "my_list[0] = 4 \n",
    "print(my_list)  "
   ]
  },
  {
   "cell_type": "code",
   "execution_count": 57,
   "id": "4d8e6acc",
   "metadata": {},
   "outputs": [
    {
     "name": "stdout",
     "output_type": "stream",
     "text": [
      "[4, 2, 3, 5]\n"
     ]
    }
   ],
   "source": [
    "my_list.append(5)\n",
    "print(my_list) "
   ]
  },
  {
   "cell_type": "code",
   "execution_count": 58,
   "id": "0f862aa2",
   "metadata": {},
   "outputs": [
    {
     "name": "stdout",
     "output_type": "stream",
     "text": [
      "[4, 3, 5]\n"
     ]
    }
   ],
   "source": [
    "my_list.remove(2)\n",
    "print(my_list) "
   ]
  },
  {
   "cell_type": "code",
   "execution_count": 59,
   "id": "1c1f0300",
   "metadata": {},
   "outputs": [],
   "source": [
    "#As we can see from above example, lists are mutable."
   ]
  },
  {
   "cell_type": "code",
   "execution_count": 60,
   "id": "0d98e3a8",
   "metadata": {},
   "outputs": [],
   "source": [
    "my_tuple = (1, 2, 3)"
   ]
  },
  {
   "cell_type": "code",
   "execution_count": 61,
   "id": "54b543ac",
   "metadata": {},
   "outputs": [
    {
     "name": "stdout",
     "output_type": "stream",
     "text": [
      "(1, 2, 3)\n"
     ]
    }
   ],
   "source": [
    "print(my_tuple)"
   ]
  },
  {
   "cell_type": "code",
   "execution_count": 62,
   "id": "7ff5e018",
   "metadata": {},
   "outputs": [
    {
     "ename": "TypeError",
     "evalue": "'tuple' object does not support item assignment",
     "output_type": "error",
     "traceback": [
      "\u001b[1;31m---------------------------------------------------------------------------\u001b[0m",
      "\u001b[1;31mTypeError\u001b[0m                                 Traceback (most recent call last)",
      "\u001b[1;32m~\\AppData\\Local\\Temp\\ipykernel_56104\\1583458910.py\u001b[0m in \u001b[0;36m<module>\u001b[1;34m\u001b[0m\n\u001b[1;32m----> 1\u001b[1;33m \u001b[0mmy_tuple\u001b[0m\u001b[1;33m[\u001b[0m\u001b[1;36m0\u001b[0m\u001b[1;33m]\u001b[0m \u001b[1;33m=\u001b[0m \u001b[1;36m4\u001b[0m\u001b[1;33m\u001b[0m\u001b[1;33m\u001b[0m\u001b[0m\n\u001b[0m",
      "\u001b[1;31mTypeError\u001b[0m: 'tuple' object does not support item assignment"
     ]
    }
   ],
   "source": [
    "my_tuple[0] = 4"
   ]
  },
  {
   "cell_type": "code",
   "execution_count": 63,
   "id": "4540251e",
   "metadata": {},
   "outputs": [
    {
     "data": {
      "text/plain": [
       "(1, 2, 3)"
      ]
     },
     "execution_count": 63,
     "metadata": {},
     "output_type": "execute_result"
    }
   ],
   "source": [
    "my_tuple"
   ]
  },
  {
   "cell_type": "code",
   "execution_count": 64,
   "id": "2a5353f3",
   "metadata": {},
   "outputs": [],
   "source": [
    "#As we can see tuples are immutable, \n",
    "#Tuples have fewer methods, mainly focused on indexing and counting elements."
   ]
  },
  {
   "cell_type": "code",
   "execution_count": 65,
   "id": "fd0c6e14",
   "metadata": {},
   "outputs": [],
   "source": [
    "#14. How do you type a tuple value that only contains the integer 42?"
   ]
  },
  {
   "cell_type": "code",
   "execution_count": 66,
   "id": "a1490db9",
   "metadata": {},
   "outputs": [],
   "source": [
    "#Answer\n",
    "#To create a tuple value that only contains the integer 42, you can enclose the integer within parentheses."
   ]
  },
  {
   "cell_type": "code",
   "execution_count": 67,
   "id": "1b9f2801",
   "metadata": {},
   "outputs": [],
   "source": [
    "my_tuple = (42,)"
   ]
  },
  {
   "cell_type": "code",
   "execution_count": 68,
   "id": "54c42a52",
   "metadata": {},
   "outputs": [
    {
     "data": {
      "text/plain": [
       "(42,)"
      ]
     },
     "execution_count": 68,
     "metadata": {},
     "output_type": "execute_result"
    }
   ],
   "source": [
    "my_tuple"
   ]
  },
  {
   "cell_type": "code",
   "execution_count": 69,
   "id": "b344cfc3",
   "metadata": {},
   "outputs": [],
   "source": [
    "#The comma at the end of the integer is necessary to differentiate between parentheses used for grouping and parentheses used to define a tuple.\n",
    "#Without the comma, Python would interpret the parentheses as just regular grouping parentheses. \n",
    "#Adding the comma makes it clear that you're defining a tuple with a single element."
   ]
  },
  {
   "cell_type": "code",
   "execution_count": 70,
   "id": "87491351",
   "metadata": {},
   "outputs": [],
   "source": [
    "#15. How do you get a list value's tuple form? How do you get a tuple value's list form?"
   ]
  },
  {
   "cell_type": "code",
   "execution_count": 71,
   "id": "fcc187d3",
   "metadata": {},
   "outputs": [],
   "source": [
    "#Answer\n",
    "#To convert between a list and a tuple in Python, you can use the list() and tuple() constructors, respectively.\n",
    "#These constructors allow you to create a new list from a tuple or a new tuple from a list."
   ]
  },
  {
   "cell_type": "code",
   "execution_count": 72,
   "id": "6ce69ec2",
   "metadata": {},
   "outputs": [
    {
     "name": "stdout",
     "output_type": "stream",
     "text": [
      "(1, 2, 3)\n"
     ]
    }
   ],
   "source": [
    "#Converting a List to a Tuple\n",
    "my_list = [1, 2, 3]\n",
    "my_tuple = tuple(my_list)\n",
    "print(my_tuple)"
   ]
  },
  {
   "cell_type": "code",
   "execution_count": 73,
   "id": "6e997563",
   "metadata": {},
   "outputs": [
    {
     "name": "stdout",
     "output_type": "stream",
     "text": [
      "[4, 5, 6]\n"
     ]
    }
   ],
   "source": [
    "#Converting a Tuple to a List\n",
    "my_tuple = (4, 5, 6)\n",
    "my_list = list(my_tuple)\n",
    "print(my_list)"
   ]
  },
  {
   "cell_type": "code",
   "execution_count": 74,
   "id": "c22647eb",
   "metadata": {},
   "outputs": [],
   "source": [
    "#16. Variables that \"contain\" list values are not necessarily lists themselves. Instead, what do they contain?"
   ]
  },
  {
   "cell_type": "code",
   "execution_count": 75,
   "id": "1334eae1",
   "metadata": {},
   "outputs": [],
   "source": [
    "#Answer\n",
    "#Variables that \"contain\" list values in Python actually contain references to the memory locations where the list data is stored.\n",
    "#In other words, the variables store memory addresses that point to the actual list data stored elsewhere in the computer's memory.\n",
    "#This concept applies not only to lists but to all objects in Python. Python uses a system of references to manage objects and memory efficiently.\n",
    "#When you assign a list (or any other object) to a variable, you're actually assigning a reference to the memory location where the list's data is stored."
   ]
  },
  {
   "cell_type": "code",
   "execution_count": 76,
   "id": "ce1a00fc",
   "metadata": {},
   "outputs": [],
   "source": [
    "#17. How do you distinguish between copy.copy() and copy.deepcopy()?"
   ]
  },
  {
   "cell_type": "code",
   "execution_count": 77,
   "id": "acaad3fb",
   "metadata": {},
   "outputs": [],
   "source": [
    "#Answer\n",
    "#In Python's copy module, both copy.copy() and copy.deepcopy() are used to create copies of objects\n",
    "#but they differ in terms of the depth of copying and how they handle nested objects"
   ]
  },
  {
   "cell_type": "code",
   "execution_count": 78,
   "id": "64359beb",
   "metadata": {},
   "outputs": [],
   "source": [
    "#The copy.copy() function creates a shallow copy of an object.\n",
    "#A shallow copy duplicates the top-level structure of the original object, but the inner objects are not duplicated.\n",
    "#Instead, references to the inner objects are copied. If the inner objects are mutable,\n",
    "#changes to them will be reflected in both the original object and the shallow copy."
   ]
  },
  {
   "cell_type": "code",
   "execution_count": 79,
   "id": "0bb87c89",
   "metadata": {},
   "outputs": [
    {
     "name": "stdout",
     "output_type": "stream",
     "text": [
      "[[5, 2], [3, 4]]\n",
      "[[5, 2], [3, 4]]\n"
     ]
    }
   ],
   "source": [
    "import copy\n",
    "\n",
    "original_list = [[1, 2], [3, 4]]\n",
    "shallow_copy = copy.copy(original_list)\n",
    "\n",
    "original_list[0][0] = 5\n",
    "print(original_list)  \n",
    "print(shallow_copy)   "
   ]
  },
  {
   "cell_type": "code",
   "execution_count": 80,
   "id": "8bccc66e",
   "metadata": {},
   "outputs": [],
   "source": [
    "#The copy.deepcopy() function creates a deep copy of an object.\n",
    "#A deep copy duplicates both the top-level structure and all inner objects recursively.\n",
    "#This means that changes to inner objects will not affect the original object or other copies."
   ]
  },
  {
   "cell_type": "code",
   "execution_count": 81,
   "id": "854d49a6",
   "metadata": {},
   "outputs": [
    {
     "name": "stdout",
     "output_type": "stream",
     "text": [
      "[[5, 2], [3, 4]]\n",
      "[[1, 2], [3, 4]]\n"
     ]
    }
   ],
   "source": [
    "import copy\n",
    "\n",
    "original_list = [[1, 2], [3, 4]]\n",
    "deep_copy = copy.deepcopy(original_list)\n",
    "\n",
    "original_list[0][0] = 5\n",
    "print(original_list)  \n",
    "print(deep_copy)      "
   ]
  },
  {
   "cell_type": "code",
   "execution_count": null,
   "id": "d4abbc51",
   "metadata": {},
   "outputs": [],
   "source": []
  },
  {
   "cell_type": "code",
   "execution_count": null,
   "id": "32cf27d9",
   "metadata": {},
   "outputs": [],
   "source": []
  }
 ],
 "metadata": {
  "kernelspec": {
   "display_name": "Python 3 (ipykernel)",
   "language": "python",
   "name": "python3"
  },
  "language_info": {
   "codemirror_mode": {
    "name": "ipython",
    "version": 3
   },
   "file_extension": ".py",
   "mimetype": "text/x-python",
   "name": "python",
   "nbconvert_exporter": "python",
   "pygments_lexer": "ipython3",
   "version": "3.9.13"
  }
 },
 "nbformat": 4,
 "nbformat_minor": 5
}
