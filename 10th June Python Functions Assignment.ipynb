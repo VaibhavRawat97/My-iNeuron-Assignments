{
 "cells": [
  {
   "cell_type": "markdown",
   "id": "4206a430",
   "metadata": {},
   "source": [
    "Q1. In Python, what is the difference between a built-in function and a user-defined function? Provide an\n",
    "example of each."
   ]
  },
  {
   "cell_type": "markdown",
   "id": "c3825439",
   "metadata": {},
   "source": [
    "Answer\n",
    "\n",
    "In Python, a built-in function is a function that is provided by the Python interpreter and is available for use without the need to define it explicitly. These functions are part of the Python standard library and cover a wide range of common tasks. Examples of built-in functions include print(), len(), max(), min(), etc.\n",
    "\n",
    "On the other hand, a user-defined function is a function that is created by the user or programmer to perform a specific task. These functions are defined using the def keyword, followed by the function name, parameters, and a block of code. Users can create their own functions to modularize their code, make it more readable, and reuse code in different parts of a program."
   ]
  },
  {
   "cell_type": "code",
   "execution_count": 1,
   "id": "a584509e",
   "metadata": {},
   "outputs": [
    {
     "name": "stdout",
     "output_type": "stream",
     "text": [
      "Length of the list: 5\n"
     ]
    }
   ],
   "source": [
    "# Example of a built-in function: len()\n",
    "my_list = [1, 2, 3, 4, 5]\n",
    "length = len(my_list)\n",
    "print(\"Length of the list:\", length)\n"
   ]
  },
  {
   "cell_type": "code",
   "execution_count": 2,
   "id": "dc4e1867",
   "metadata": {},
   "outputs": [
    {
     "name": "stdout",
     "output_type": "stream",
     "text": [
      "Sum of numbers: 10\n"
     ]
    }
   ],
   "source": [
    "# Example of a user-defined function: add_numbers()\n",
    "def add_numbers(a, b):\n",
    "    return a + b\n",
    "\n",
    "result = add_numbers(3, 7)\n",
    "print(\"Sum of numbers:\", result)\n"
   ]
  },
  {
   "cell_type": "markdown",
   "id": "f754219d",
   "metadata": {},
   "source": [
    "Q2. How can you pass arguments to a function in Python? Explain the difference between positional\n",
    "arguments and keyword arguments."
   ]
  },
  {
   "cell_type": "markdown",
   "id": "56cbb26d",
   "metadata": {},
   "source": [
    "Answer\n",
    "\n",
    "ChatGPT\n",
    "In Python, you can pass arguments to a function in two main ways: positional arguments and keyword arguments.\n",
    "\n",
    "Positional Arguments:\n",
    "\n",
    "Positional arguments are the most common type of arguments in Python functions.\n",
    "\n",
    "The values are assigned to parameters based on their position or order in the function definition.\n",
    "\n",
    "The order of arguments passed during the function call must match the order of parameters in the function definition."
   ]
  },
  {
   "cell_type": "code",
   "execution_count": 4,
   "id": "d3023a2f",
   "metadata": {},
   "outputs": [
    {
     "name": "stdout",
     "output_type": "stream",
     "text": [
      "10\n"
     ]
    }
   ],
   "source": [
    "def add_numbers(x, y):\n",
    "    return x + y\n",
    "\n",
    "result = add_numbers(3, 7)\n",
    "print(result)"
   ]
  },
  {
   "cell_type": "markdown",
   "id": "d7c9a61e",
   "metadata": {},
   "source": [
    "Keyword Arguments:\n",
    "\n",
    "Keyword arguments are passed to a function by explicitly mentioning the parameter names along with their values during the function call.\n",
    "\n",
    "This allows you to pass arguments out of order, and it's helpful when you have functions with many parameters or when you want to make your code more readable."
   ]
  },
  {
   "cell_type": "code",
   "execution_count": 6,
   "id": "c0d07c8f",
   "metadata": {},
   "outputs": [
    {
     "name": "stdout",
     "output_type": "stream",
     "text": [
      "Hello Vaibhav! You are 27 years old.\n"
     ]
    }
   ],
   "source": [
    "def greet(name, age):\n",
    "    print(\"Hello\", name + \"!\", \"You are\", age, \"years old.\")\n",
    "\n",
    "greet(age=27, name=\"Vaibhav\")\n"
   ]
  },
  {
   "cell_type": "markdown",
   "id": "c11a0fae",
   "metadata": {},
   "source": [
    "In this example, name=\"Alice\" and age=25 are keyword arguments. The order in which they are passed doesn't matter.\n",
    "\n",
    "It's also possible to use a combination of positional and keyword arguments in a function call. When defining a function, positional parameters must come before keyword parameters."
   ]
  },
  {
   "cell_type": "markdown",
   "id": "f0080e75",
   "metadata": {},
   "source": [
    "Q3. What is the purpose of the return statement in a function? Can a function have multiple return\n",
    "statements? Explain with an example."
   ]
  },
  {
   "cell_type": "markdown",
   "id": "88e532bc",
   "metadata": {},
   "source": [
    "Answer\n",
    "\n",
    "The return statement in a function serves the purpose of specifying the value(s) that the function should output or provide back to the caller. When a return statement is encountered in a function, it signals the end of the function's execution, and the specified value is sent back to the caller.\n",
    "\n",
    "Key points about the return statement:\n",
    "\n",
    "Purpose:\n",
    "\n",
    "It allows a function to produce a result or output that can be used by the rest of the program.\n",
    "The value specified in the return statement can be a single value, multiple values (as a tuple), or even None if the function does not need to return any specific value.\n",
    "\n",
    "Single vs. Multiple Return Statements:\n",
    "\n",
    "A function can have multiple return statements, but only one of them will be executed during the function's execution.\n",
    "When a return statement is encountered, the function immediately exits, and the specified value is returned to the caller."
   ]
  },
  {
   "cell_type": "code",
   "execution_count": 9,
   "id": "84c91989",
   "metadata": {},
   "outputs": [
    {
     "name": "stdout",
     "output_type": "stream",
     "text": [
      "Absolute value of 5: 5\n",
      "Absolute value of -8: 8\n"
     ]
    }
   ],
   "source": [
    "def absolute_value(number):\n",
    "    if number >= 0:\n",
    "        return number\n",
    "    else:\n",
    "        return -number\n",
    "\n",
    "# Example usage:\n",
    "result1 = absolute_value(5)\n",
    "print(\"Absolute value of 5:\", result1)\n",
    "\n",
    "result2 = absolute_value(-8)\n",
    "print(\"Absolute value of -8:\", result2)"
   ]
  },
  {
   "cell_type": "markdown",
   "id": "e669d7cd",
   "metadata": {},
   "source": [
    "Q4. What are lambda functions in Python? How are they different from regular functions? Provide an\n",
    "example where a lambda function can be useful."
   ]
  },
  {
   "cell_type": "markdown",
   "id": "2bc4c884",
   "metadata": {},
   "source": [
    "Answer\n",
    "\n",
    "Lambda functions in Python are anonymous functions defined using the lambda keyword. They are also known as lambda expressions. Unlike regular functions, lambda functions are concise and typically used for short-term, small operations.\n",
    "\n",
    "Here are key characteristics of lambda functions:\n",
    "\n",
    "Anonymous: Lambda functions don't have a name; they are created using the lambda keyword followed by the parameter list and the expression to be evaluated.\n",
    "\n",
    "Single Expression: Lambda functions can only consist of a single expression. The result of this expression is implicitly returned."
   ]
  },
  {
   "cell_type": "code",
   "execution_count": 10,
   "id": "75fc922a",
   "metadata": {},
   "outputs": [
    {
     "name": "stdout",
     "output_type": "stream",
     "text": [
      "[(7, 1), (3, 2), (1, 5), (4, 8)]\n"
     ]
    }
   ],
   "source": [
    "# List of tuples\n",
    "pairs = [(1, 5), (3, 2), (7, 1), (4, 8)]\n",
    "\n",
    "# Sort the list based on the second element of each tuple\n",
    "sorted_pairs = sorted(pairs, key=lambda x: x[1])\n",
    "\n",
    "print(sorted_pairs)\n"
   ]
  },
  {
   "cell_type": "markdown",
   "id": "843e2c97",
   "metadata": {},
   "source": [
    "Q5. How does the concept of \"scope\" apply to functions in Python? Explain the difference between local\n",
    "scope and global scope."
   ]
  },
  {
   "cell_type": "markdown",
   "id": "fa08098e",
   "metadata": {},
   "source": [
    "Answer\n",
    "\n",
    "The concept of \"scope\" in Python refers to the region or context in the code where a particular variable is visible and can be accessed. Python follows the LEGB (Local, Enclosing, Global, Built-in) rule to determine the scope of a variable. This rule defines the order in which Python searches for a variable:\n",
    "\n",
    "Local Scope:\n",
    "\n",
    "Variables defined inside a function have a local scope.\n",
    "They are only accessible within that function.\n",
    "Local variables are created when the function is called and are destroyed when the function exits."
   ]
  },
  {
   "cell_type": "code",
   "execution_count": 11,
   "id": "819f2844",
   "metadata": {},
   "outputs": [
    {
     "name": "stdout",
     "output_type": "stream",
     "text": [
      "Inside the function: 10\n"
     ]
    }
   ],
   "source": [
    "def example_function():\n",
    "    local_variable = 10\n",
    "    print(\"Inside the function:\", local_variable)\n",
    "\n",
    "example_function()\n",
    "# print(local_variable)  # This line would raise an error since local_variable is not defined outside the function"
   ]
  },
  {
   "cell_type": "markdown",
   "id": "43d3200d",
   "metadata": {},
   "source": [
    "Global Scope:\n",
    "\n",
    "Variables defined at the top level of a script or module have a global scope.\n",
    "They are accessible from any function within that script or module.\n",
    "However, modifying a global variable from within a function requires using the global keyword."
   ]
  },
  {
   "cell_type": "code",
   "execution_count": 12,
   "id": "6f65eb35",
   "metadata": {},
   "outputs": [
    {
     "name": "stdout",
     "output_type": "stream",
     "text": [
      "Inside the function: 30\n"
     ]
    }
   ],
   "source": [
    "global_variable = 30\n",
    "\n",
    "def print_global():\n",
    "    print(\"Inside the function:\", global_variable)\n",
    "\n",
    "print_global()"
   ]
  },
  {
   "cell_type": "markdown",
   "id": "9054cb18",
   "metadata": {},
   "source": [
    "Q6. How can you use the \"return\" statement in a Python function to return multiple values?"
   ]
  },
  {
   "cell_type": "markdown",
   "id": "29ef599e",
   "metadata": {},
   "source": [
    "Answer\n",
    "\n",
    "In Python, the return statement can be used to return multiple values from a function by separating the values with commas. The values are then packed into a tuple, and this tuple is returned. When calling the function, you can use tuple unpacking to assign the individual values to separate variables."
   ]
  },
  {
   "cell_type": "code",
   "execution_count": 13,
   "id": "8534e76a",
   "metadata": {},
   "outputs": [
    {
     "name": "stdout",
     "output_type": "stream",
     "text": [
      "Total Sum: 42\n",
      "Average Value: 8.4\n",
      "Maximum Value: 12\n",
      "Minimum Value: 5\n"
     ]
    }
   ],
   "source": [
    "def calculate_stats(numbers):\n",
    "    total = sum(numbers)\n",
    "    average = total / len(numbers)\n",
    "    maximum = max(numbers)\n",
    "    minimum = min(numbers)\n",
    "\n",
    "    # Use the return statement to return multiple values as a tuple\n",
    "    return total, average, maximum, minimum\n",
    "\n",
    "# Example usage:\n",
    "data = [10, 5, 8, 12, 7]\n",
    "\n",
    "# Call the function and unpack the returned tuple into separate variables\n",
    "total_sum, average_value, max_value, min_value = calculate_stats(data)\n",
    "\n",
    "# Print the results\n",
    "print(\"Total Sum:\", total_sum)\n",
    "print(\"Average Value:\", average_value)\n",
    "print(\"Maximum Value:\", max_value)\n",
    "print(\"Minimum Value:\", min_value)\n"
   ]
  },
  {
   "cell_type": "markdown",
   "id": "edfcd0bd",
   "metadata": {},
   "source": [
    "Q7. What is the difference between the \"pass by value\" and \"pass by reference\" concepts when it\n",
    "comes to function arguments in Python?"
   ]
  },
  {
   "cell_type": "markdown",
   "id": "1c9745a3",
   "metadata": {},
   "source": [
    "Answer\n",
    "\n",
    "In Python, the concepts of \"pass by value\" and \"pass by reference\" are often misunderstood, and the terms themselves can be a bit misleading. Python uses a mechanism that is sometimes referred to as \"pass by object reference\" or \"pass by assignment.\" Let's clarify these concepts:\n",
    "\n",
    "Pass by Value:\n",
    "\n",
    "In a \"pure\" pass by value mechanism, the actual value of the variable is passed to the function.\n",
    "Changes made to the parameter inside the function do not affect the original variable outside the function.\n",
    "However, in Python, even when values are passed to a function, the reference to the object is what gets passed, not the actual value."
   ]
  },
  {
   "cell_type": "code",
   "execution_count": 14,
   "id": "c54f3e46",
   "metadata": {},
   "outputs": [
    {
     "name": "stdout",
     "output_type": "stream",
     "text": [
      "Inside function: 15\n",
      "Outside function: 5\n"
     ]
    }
   ],
   "source": [
    "def modify_value(x):\n",
    "    x = x + 10\n",
    "    print(\"Inside function:\", x)\n",
    "\n",
    "value = 5\n",
    "modify_value(value)\n",
    "print(\"Outside function:\", value)"
   ]
  },
  {
   "cell_type": "markdown",
   "id": "c7b1e72d",
   "metadata": {},
   "source": [
    "In this example, the modification inside the function does not affect the original value outside the function. This behavior is consistent with pass by value.\n",
    "\n",
    "Pass by Reference (or Pass by Object Reference):\n",
    "\n",
    "In a \"pure\" pass by reference mechanism, the reference to the actual variable is passed to the function.\n",
    "Changes made to the parameter inside the function directly affect the original variable outside the function.\n",
    "In Python, while the reference to the object is passed, modifications to mutable objects (like lists or dictionaries) can affect the original object outside the function."
   ]
  },
  {
   "cell_type": "code",
   "execution_count": 15,
   "id": "e0f66d3c",
   "metadata": {},
   "outputs": [
    {
     "name": "stdout",
     "output_type": "stream",
     "text": [
      "Inside function: [1, 2, 3, 4]\n",
      "Outside function: [1, 2, 3, 4]\n"
     ]
    }
   ],
   "source": [
    "def modify_list(my_list):\n",
    "    my_list.append(4)\n",
    "    print(\"Inside function:\", my_list)\n",
    "\n",
    "original_list = [1, 2, 3]\n",
    "modify_list(original_list)\n",
    "print(\"Outside function:\", original_list)\n"
   ]
  },
  {
   "cell_type": "markdown",
   "id": "487eaab1",
   "metadata": {},
   "source": [
    "Q8. Create a function that can intake integer or decimal value and do following operations:\n",
    "\n",
    "a. Logarithmic function (log x)\n",
    "\n",
    "b. Exponential function (exp(x))\n",
    "\n",
    "c. Power function with base 2 (2x)\n",
    "\n",
    "d. Square root"
   ]
  },
  {
   "cell_type": "code",
   "execution_count": 17,
   "id": "e40f304b",
   "metadata": {},
   "outputs": [
    {
     "name": "stdout",
     "output_type": "stream",
     "text": [
      "Logarithmic result for 6: 1.791759469228055\n",
      "Exponential result for 6: 403.4287934927351\n",
      "Power of two result for 6: 64\n",
      "Square root result for 6: 2.449489742783178\n"
     ]
    }
   ],
   "source": [
    "import math\n",
    "\n",
    "def mathematical_operations(x):\n",
    "    # Logarithmic function (log x)\n",
    "    logarithmic_result = math.log(x)\n",
    "\n",
    "    # Exponential function (exp(x))\n",
    "    exponential_result = math.exp(x)\n",
    "\n",
    "    # Power function with base 2 (2^x)\n",
    "    power_of_two_result = 2 ** x\n",
    "\n",
    "    # Square root\n",
    "    square_root_result = math.sqrt(x)\n",
    "\n",
    "    # Return the results as a dictionary\n",
    "    return {\n",
    "        'logarithmic_result': logarithmic_result,\n",
    "        'exponential_result': exponential_result,\n",
    "        'power_of_two_result': power_of_two_result,\n",
    "        'square_root_result': square_root_result\n",
    "    }\n",
    "\n",
    "# Example usage:\n",
    "input_value = 6\n",
    "\n",
    "results = mathematical_operations(input_value)\n",
    "\n",
    "print(f\"Logarithmic result for {input_value}: {results['logarithmic_result']}\")\n",
    "print(f\"Exponential result for {input_value}: {results['exponential_result']}\")\n",
    "print(f\"Power of two result for {input_value}: {results['power_of_two_result']}\")\n",
    "print(f\"Square root result for {input_value}: {results['square_root_result']}\")\n"
   ]
  },
  {
   "cell_type": "markdown",
   "id": "b2b6bd11",
   "metadata": {},
   "source": [
    "Q9. Create a function that takes a full name as an argument and returns first name and last name."
   ]
  },
  {
   "cell_type": "markdown",
   "id": "628229df",
   "metadata": {},
   "source": [
    "Answer"
   ]
  },
  {
   "cell_type": "code",
   "execution_count": 18,
   "id": "f7d5ab6e",
   "metadata": {},
   "outputs": [
    {
     "name": "stdout",
     "output_type": "stream",
     "text": [
      "Full Name: John Doe\n",
      "First Name: John\n",
      "Last Name: Doe\n"
     ]
    }
   ],
   "source": [
    "def split_full_name(full_name):\n",
    "    # Split the full name into words\n",
    "    name_parts = full_name.split()\n",
    "\n",
    "    # If there are at least two parts, assume the last word is the last name\n",
    "    if len(name_parts) >= 2:\n",
    "        first_name = name_parts[0]\n",
    "        last_name = ' '.join(name_parts[1:])\n",
    "    else:\n",
    "        # If there's only one part, consider it as the first name and set last name to an empty string\n",
    "        first_name = full_name\n",
    "        last_name = ''\n",
    "\n",
    "    return first_name, last_name\n",
    "\n",
    "# Example usage:\n",
    "full_name_input = \"John Doe\"\n",
    "first_name_result, last_name_result = split_full_name(full_name_input)\n",
    "\n",
    "print(\"Full Name:\", full_name_input)\n",
    "print(\"First Name:\", first_name_result)\n",
    "print(\"Last Name:\", last_name_result)\n"
   ]
  },
  {
   "cell_type": "code",
   "execution_count": null,
   "id": "cd7e39b8",
   "metadata": {},
   "outputs": [],
   "source": []
  }
 ],
 "metadata": {
  "kernelspec": {
   "display_name": "Python 3 (ipykernel)",
   "language": "python",
   "name": "python3"
  },
  "language_info": {
   "codemirror_mode": {
    "name": "ipython",
    "version": 3
   },
   "file_extension": ".py",
   "mimetype": "text/x-python",
   "name": "python",
   "nbconvert_exporter": "python",
   "pygments_lexer": "ipython3",
   "version": "3.9.13"
  }
 },
 "nbformat": 4,
 "nbformat_minor": 5
}
