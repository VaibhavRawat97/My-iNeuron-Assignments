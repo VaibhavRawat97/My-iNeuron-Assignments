{
 "cells": [
  {
   "cell_type": "markdown",
   "id": "50a928f1",
   "metadata": {},
   "source": [
    "Q1. What is the role of the 'else' block in a try-except statement? Provide an example\n",
    "scenario where it would be useful."
   ]
  },
  {
   "cell_type": "markdown",
   "id": "06c8e532",
   "metadata": {},
   "source": [
    "Answer\n",
    "\n",
    "The else block in a try-except statement is executed if and only if no exceptions are raised in the corresponding try block. Its role is to specify a block of code that should run when the try block completes successfully, without encountering any exceptions."
   ]
  },
  {
   "cell_type": "code",
   "execution_count": 1,
   "id": "f48f66ad",
   "metadata": {},
   "outputs": [
    {
     "name": "stdout",
     "output_type": "stream",
     "text": [
      "Division successful.\n",
      "Result of 10 / 2 is: 5.0\n"
     ]
    }
   ],
   "source": [
    "def divide_numbers(num1, num2):\n",
    "    try:\n",
    "        result = num1 / num2\n",
    "    except ZeroDivisionError:\n",
    "        print(\"Error: Cannot divide by zero.\")\n",
    "    else:\n",
    "        print(\"Division successful.\")\n",
    "        return result\n",
    "\n",
    "# Example usage:\n",
    "numerator = 10\n",
    "denominator = 2\n",
    "result = divide_numbers(numerator, denominator)\n",
    "\n",
    "if result is not None:\n",
    "    print(f\"Result of {numerator} / {denominator} is: {result}\")\n"
   ]
  },
  {
   "cell_type": "markdown",
   "id": "eec7c1d8",
   "metadata": {},
   "source": [
    "Q2. Can a try-except block be nested inside another try-except block? Explain with an\n",
    "example."
   ]
  },
  {
   "cell_type": "markdown",
   "id": "507ed048",
   "metadata": {},
   "source": [
    "Answer\n",
    "\n",
    "Yes, a try-except block can be nested inside another try-except block. This is known as nested exception handling, and it allows for handling exceptions at different levels of granularity. Each try block can have its own set of except blocks to handle specific exceptions."
   ]
  },
  {
   "cell_type": "code",
   "execution_count": 2,
   "id": "2b1b4401",
   "metadata": {},
   "outputs": [
    {
     "name": "stdout",
     "output_type": "stream",
     "text": [
      "Enter the numerator: 23\n",
      "Enter the denominator: 54\n",
      "Inner Block: Division successful. Result: 0.42592592592592593\n"
     ]
    }
   ],
   "source": [
    "def nested_example():\n",
    "    try:\n",
    "        # Outer try block\n",
    "        numerator = int(input(\"Enter the numerator: \"))\n",
    "        denominator = int(input(\"Enter the denominator: \"))\n",
    "\n",
    "        try:\n",
    "            # Inner try block\n",
    "            result = numerator / denominator\n",
    "            print(\"Inner Block: Division successful. Result:\", result)\n",
    "        except ZeroDivisionError:\n",
    "            print(\"Inner Block: Error - Cannot divide by zero.\")\n",
    "        except ValueError:\n",
    "            print(\"Inner Block: Error - Please enter valid integers.\")\n",
    "    except ValueError:\n",
    "        print(\"Outer Block: Error - Please enter valid integers for numerator and denominator.\")\n",
    "    except Exception as e:\n",
    "        print(f\"Outer Block: An unexpected error occurred: {e}\")\n",
    "\n",
    "# Example usage:\n",
    "nested_example()\n"
   ]
  },
  {
   "cell_type": "markdown",
   "id": "7ffc36c0",
   "metadata": {},
   "source": [
    "Q3. How can you create a custom exception class in Python? Provide an example that\n",
    "demonstrates its usage."
   ]
  },
  {
   "cell_type": "markdown",
   "id": "3954e042",
   "metadata": {},
   "source": [
    "Answer\n",
    "\n",
    "In Python, you can create a custom exception class by inheriting from the built-in Exception class or one of its subclasses. By creating your own exception class, you can define specific behaviors and attributes for handling custom error scenarios."
   ]
  },
  {
   "cell_type": "code",
   "execution_count": 3,
   "id": "ed3000cf",
   "metadata": {},
   "outputs": [
    {
     "name": "stdout",
     "output_type": "stream",
     "text": [
      "Caught a custom exception: Input value cannot be negative.\n",
      "Input value is: 10\n"
     ]
    }
   ],
   "source": [
    "class CustomError(Exception):\n",
    "    \"\"\"Custom exception class.\"\"\"\n",
    "    def __init__(self, message=\"A custom error occurred.\"):\n",
    "        self.message = message\n",
    "        super().__init__(self.message)\n",
    "\n",
    "# Example usage:\n",
    "\n",
    "def example_function(value):\n",
    "    try:\n",
    "        if value < 0:\n",
    "            raise CustomError(\"Input value cannot be negative.\")\n",
    "        else:\n",
    "            print(\"Input value is:\", value)\n",
    "    except CustomError as ce:\n",
    "        print(f\"Caught a custom exception: {ce}\")\n",
    "\n",
    "# Test with a negative value\n",
    "example_function(-5)\n",
    "\n",
    "# Test with a non-negative value\n",
    "example_function(10)\n"
   ]
  },
  {
   "cell_type": "markdown",
   "id": "6a5aa4ac",
   "metadata": {},
   "source": [
    "Q4. What are some common exceptions that are built-in to Python?"
   ]
  },
  {
   "cell_type": "markdown",
   "id": "cf4797e4",
   "metadata": {},
   "source": [
    "Answer\n",
    "\n",
    "Python has several built-in exceptions that are commonly encountered during programming. Here are some of the common built-in exceptions:\n",
    "\n",
    "SyntaxError:\n",
    "\n",
    "Raised when there is a syntax error in the Python code.\n",
    "IndentationError:\n",
    "\n",
    "Raised when there is an incorrect indentation in the code.\n",
    "NameError:\n",
    "\n",
    "Raised when a local or global name is not found.\n",
    "TypeError:\n",
    "\n",
    "Raised when an operation or function is applied to an object of an inappropriate type.\n",
    "ValueError:\n",
    "\n",
    "Raised when a built-in operation or function receives an argument of the correct type but an inappropriate value.\n",
    "ZeroDivisionError:\n",
    "\n",
    "Raised when division or modulo by zero is encountered.\n",
    "FileNotFoundError:\n",
    "\n",
    "Raised when a file or directory is requested, but cannot be found.\n",
    "IndexError:\n",
    "\n",
    "Raised when a sequence subscript is out of range.\n",
    "KeyError:\n",
    "\n",
    "Raised when a dictionary key is not found.\n",
    "AttributeError:\n",
    "\n",
    "Raised when an attribute reference or assignment fails.\n",
    "ImportError:\n",
    "\n",
    "Raised when an import statement fails to find the specified module.\n",
    "RuntimeError:\n",
    "\n",
    "Raised when an error is detected that doesn't fall into any of the other categories.\n",
    "OSError:\n",
    "\n",
    "A base class for I/O-related errors.\n",
    "OverflowError:\n",
    "\n",
    "Raised when the result of an arithmetic operation is too large to be represented.\n",
    "MemoryError:\n",
    "\n",
    "Raised when an operation runs out of memory."
   ]
  },
  {
   "cell_type": "markdown",
   "id": "3e6e44b6",
   "metadata": {},
   "source": [
    "Q5. What is logging in Python, and why is it important in software development?"
   ]
  },
  {
   "cell_type": "markdown",
   "id": "97bbab69",
   "metadata": {},
   "source": [
    "Answer\n",
    "\n",
    "Logging in Python refers to the process of recording messages, warnings, errors, and other information generated during the execution of a program. The logging module in Python provides a flexible and powerful logging framework for developers to include in their applications. This module allows developers to capture and store relevant information about the program's behavior, which can be crucial for debugging, monitoring, and analyzing the software's performance.\n",
    "\n",
    "Why logging is important in software development:\n",
    "\n",
    "Debugging:\n",
    "\n",
    "Logging provides a systematic way to record information about the program's state, variables, and control flow during execution, making it easier to identify and fix issues.\n",
    "\n",
    "Monitoring and Analysis:\n",
    "\n",
    "Logs are essential for monitoring the performance and behavior of software in production environments. They enable developers and system administrators to identify and respond to issues promptly.\n",
    "Error Tracking:\n",
    "\n",
    "By logging errors and exceptions, developers can track the occurrence of unexpected issues and gather information about their root causes.\n",
    "\n",
    "Audit Trails:\n",
    "\n",
    "Logging is crucial for creating audit trails, which are records of important events or activities in a system. This can be valuable for security and compliance purposes.\n",
    "\n",
    "Performance Optimization:\n",
    "\n",
    "By logging performance metrics and timestamps, developers can analyze the execution flow and identify bottlenecks or areas for improvement.\n",
    "\n",
    "Communication and Collaboration:\n",
    "\n",
    "Logs serve as a communication tool between different parts of a software system. They provide a shared record of what happened and when, aiding collaboration among team members.\n",
    "\n",
    "Configurability:\n",
    "\n",
    "The logging module in Python allows for flexible configuration, enabling developers to adjust logging behavior without modifying the code. This is useful for adapting logging to different deployment environments."
   ]
  },
  {
   "cell_type": "markdown",
   "id": "d2ebedec",
   "metadata": {},
   "source": [
    "Q6. Explain the purpose of log levels in Python logging and provide examples of when\n",
    "each log level would be appropriate."
   ]
  },
  {
   "cell_type": "markdown",
   "id": "0e2b42cf",
   "metadata": {},
   "source": [
    "Answer\n",
    "\n",
    "In Python logging, log levels are used to categorize and prioritize log messages based on their severity. The logging module defines several standard log levels, each representing a different level of importance or severity. These log levels help developers and system administrators filter and analyze log messages according to their relevance in different scenarios.\n",
    "\n",
    "Here are the standard log levels in increasing order of severity:\n",
    "\n",
    "DEBUG:\n",
    "\n",
    "The DEBUG level is used for messages that provide detailed information for debugging purposes. These messages are typically not displayed in production environments.\n",
    "Example: Detailed variable values, execution paths, or intermediate results during debugging."
   ]
  },
  {
   "cell_type": "markdown",
   "id": "11d8ee47",
   "metadata": {},
   "source": [
    "INFO:\n",
    "\n",
    "The INFO level is used for general informational messages. It provides information about the normal execution of the program.\n",
    "Example: Startup messages, configuration details, or progress updates.\n",
    "\n",
    "WARNING:\n",
    "\n",
    "The WARNING level is used for messages that indicate potential issues or warnings. These messages may not necessarily cause the program to fail but should be noted.\n",
    "Example: Deprecated feature usage, resource warnings, or non-fatal issues.\n",
    "\n",
    "ERROR:\n",
    "\n",
    "The ERROR level is used for messages that indicate errors or exceptions that caused the program to fail partially.\n",
    "Example: Catching and logging exceptions, critical errors that don't lead to a program crash.\n",
    "\n",
    "CRITICAL:\n",
    "\n",
    "The CRITICAL level is used for messages that indicate critical errors or exceptions that lead to a program crash or severe failure.\n",
    "Example: Unrecoverable errors, system failures, or critical exceptions.\n",
    "\n"
   ]
  },
  {
   "cell_type": "markdown",
   "id": "55ea1f48",
   "metadata": {},
   "source": [
    "Q7. What are log formatters in Python logging, and how can you customise the log\n",
    "message format using formatters?"
   ]
  },
  {
   "cell_type": "markdown",
   "id": "a61ebc58",
   "metadata": {},
   "source": [
    "Answer\n",
    "\n",
    "In Python logging, log formatters are used to define the layout and structure of log messages. They allow developers to customize how log records are presented in the output, whether it's in the console, a file, or another logging destination. Formatters control the information included in each log message, such as timestamps, log levels, and the actual log message itself."
   ]
  },
  {
   "cell_type": "markdown",
   "id": "1be5faed",
   "metadata": {},
   "source": [
    "Q8. How can you set up logging to capture log messages from multiple modules or\n",
    "classes in a Python application?"
   ]
  },
  {
   "cell_type": "markdown",
   "id": "c91e7ac4",
   "metadata": {},
   "source": [
    "Answer\n",
    "\n",
    "To set up logging to capture log messages from multiple modules or classes in a Python application, you can follow these steps:\n",
    "\n",
    "Create a Logging Configuration:\n",
    "\n",
    "You can configure logging in your application using either basic configuration or more advanced configuration methods.\n",
    "\n",
    "Get Loggers for Each Module or Class:\n",
    "\n",
    "In each module or class where you want to log messages, obtain a logger using logging.getLogger(__name__). The __name__ attribute ensures that the logger is uniquely identified by the module or class name.\n",
    "\n",
    "Configure Handlers and Formatters (Optional):\n",
    "\n",
    "If you want to customize logging output, configure handlers and formatters. You can add different handlers for console output, file output, etc., and associate them with specific loggers.\n",
    "\n",
    "Use Loggers Throughout Your Application:\n",
    "\n",
    "Use the loggers you obtained in step 2 to log messages throughout your application. Log messages will be captured by the root logger and any additional loggers configured.\n",
    "\n",
    "With this setup, you can capture log messages from multiple modules or classes in your Python application. The root logger captures messages, and each module or class logger can be configured independently. You can adjust logging levels, add different handlers, and customize the formatting for each logger as needed."
   ]
  },
  {
   "cell_type": "markdown",
   "id": "db0a77ee",
   "metadata": {},
   "source": [
    "Q9. What is the difference between the logging and print statements in Python? When\n",
    "should you use logging over print statements in a real-world application?"
   ]
  },
  {
   "cell_type": "markdown",
   "id": "1eadd4fa",
   "metadata": {},
   "source": [
    "Answer\n",
    "\n",
    "Both logging and print statements in Python are used for displaying information, but they serve different purposes and have distinct features. Here are the key differences between logging and print statements:\n",
    "\n",
    "Logging:\n",
    "Purpose:\n",
    "\n",
    "Logging: The primary purpose of logging is to capture and record information about the application's behavior, state, and errors over time. It's a systematic way of generating log messages that can be used for debugging, monitoring, and analyzing the application.\n",
    "\n",
    "Levels:\n",
    "\n",
    "Logging: Provides different log levels (e.g., DEBUG, INFO, WARNING, ERROR, CRITICAL) to categorize the severity of log messages. This allows developers to control which messages are displayed based on their importance.\n",
    "\n",
    "Configuration:\n",
    "\n",
    "Logging: Offers a flexible and configurable logging framework. Developers can configure loggers, handlers, formatters, and levels to control how log messages are captured, formatted, and outputted.\n",
    "\n",
    "Output Destinations:\n",
    "\n",
    "Logging: Supports various output destinations, including console, files, emails, external services, etc. Log messages can be directed to multiple destinations simultaneously.\n",
    "\n",
    "Use Cases:\n",
    "\n",
    "Logging: Suitable for applications deployed in production, where detailed logs are essential for debugging and monitoring. It is particularly useful for large and complex systems.\n",
    "Print Statements:\n",
    "\n",
    "Purpose:\n",
    "\n",
    "Print Statements: Primarily used for simple debugging and quick inspection of values during development. It is not designed for long-term logging or capturing information about the application's runtime behavior.\n",
    "\n",
    "Levels:\n",
    "\n",
    "Print Statements: There are no levels of print statements. All print statements are treated equally, and they are not categorized by severity.\n",
    "\n",
    "Configuration:\n",
    "\n",
    "Print Statements: Limited configuration options. Developers can control the end character, separator, and file to which the output is directed.\n",
    "\n",
    "Output Destinations:\n",
    "\n",
    "Print Statements: Output is typically directed to the console. Redirecting output to a file or other destinations requires additional effort.\n",
    "\n",
    "Use Cases:\n",
    "\n",
    "Print Statements: Useful for quick debugging during development. However, it may lead to cluttered output in production, and it lacks the systematic organization and flexibility of logging.\n",
    "\n",
    "When to Use Logging Over Print Statements in a Real-World Application:\n",
    "\n",
    "Long-Term Maintenance:\n",
    "\n",
    "Use logging when building applications that require long-term maintenance and monitoring. Logs provide a historical record of the application's behavior, which is invaluable for diagnosing issues.\n",
    "\n",
    "Complex Systems:\n",
    "\n",
    "In large and complex systems, logging offers a structured and scalable approach to capture and analyze runtime information. It allows for better organization of logs based on severity levels and modules.\n",
    "\n",
    "Production Environments:\n",
    "\n",
    "Logging is crucial for production environments where detailed logs are essential for identifying and resolving issues without disrupting users.\n",
    "\n",
    "Configurability:\n",
    "\n",
    "If you need to configure logging behavior dynamically, such as changing log levels or directing logs to different outputs without modifying code, logging provides better configurability.\n",
    "\n",
    "Error Handling:\n",
    "\n",
    "Logging is especially useful for capturing errors and exceptions systematically. It allows you to categorize errors by severity and provides a consistent format for error messages.\n",
    "\n",
    "Collaboration:\n",
    "\n",
    "When multiple developers are working on a project, logging facilitates collaboration by providing a standardized way to document and communicate runtime behavior.\n",
    "In summary, while print statements are quick and convenient for debugging during development, logging is a more robust and systematic solution for capturing and managing information about an application's behavior, especially in real-world, long-term, and production scenarios."
   ]
  },
  {
   "cell_type": "markdown",
   "id": "357d78da",
   "metadata": {},
   "source": [
    "Q10. Write a Python program that logs a message to a file named \"app.log\" with the\n",
    "following requirements:\n",
    "\n",
    "● The log message should be \"Hello, World!\"\n",
    "\n",
    "● The log level should be set to \"INFO.\"\n",
    "\n",
    "● The log file should append new log entries without overwriting previous ones."
   ]
  },
  {
   "cell_type": "markdown",
   "id": "ea8244c9",
   "metadata": {},
   "source": [
    "Answer"
   ]
  },
  {
   "cell_type": "code",
   "execution_count": 5,
   "id": "d90d512a",
   "metadata": {},
   "outputs": [],
   "source": [
    "import logging\n",
    "\n",
    "# Configure the logging\n",
    "logging.basicConfig(filename='app.log', level=logging.INFO, filemode='a', format='%(asctime)s - %(levelname)s - %(message)s')\n",
    "\n",
    "# Log the message\n",
    "logging.info('Hello, World!')\n"
   ]
  },
  {
   "cell_type": "markdown",
   "id": "b3604d1d",
   "metadata": {},
   "source": [
    "Q11. Create a Python program that logs an error message to the console and a file named\n",
    "\"errors.log\" if an exception occurs during the program's execution. The error\n",
    "message should include the exception type and a timestamp."
   ]
  },
  {
   "cell_type": "markdown",
   "id": "b8596580",
   "metadata": {},
   "source": [
    "Answer"
   ]
  },
  {
   "cell_type": "code",
   "execution_count": 6,
   "id": "f64c68bb",
   "metadata": {},
   "outputs": [
    {
     "name": "stderr",
     "output_type": "stream",
     "text": [
      "ERROR:root:2023-12-04 00:10:42 - Exception Type: ZeroDivisionError\n",
      "Traceback (most recent call last):\n",
      "  File \"C:\\Users\\vaibh\\AppData\\Local\\Temp\\ipykernel_66004\\2976664647.py\", line 8, in main\n",
      "    result = 10 / 0  # Example: Division by zero to trigger an exception\n",
      "ZeroDivisionError: division by zero\n",
      "\n",
      "ERROR - 2023-12-04 00:10:42 - Exception Type: ZeroDivisionError\n",
      "Traceback (most recent call last):\n",
      "  File \"C:\\Users\\vaibh\\AppData\\Local\\Temp\\ipykernel_66004\\2976664647.py\", line 8, in main\n",
      "    result = 10 / 0  # Example: Division by zero to trigger an exception\n",
      "ZeroDivisionError: division by zero\n",
      "\n"
     ]
    }
   ],
   "source": [
    "import logging\n",
    "import traceback\n",
    "from datetime import datetime\n",
    "\n",
    "def main():\n",
    "    try:\n",
    "        # Your main program logic here\n",
    "        result = 10 / 0  # Example: Division by zero to trigger an exception\n",
    "    except Exception as e:\n",
    "        # Log the exception\n",
    "        log_exception(e)\n",
    "\n",
    "def log_exception(exception):\n",
    "    # Configure the logging for errors\n",
    "    logging.basicConfig(level=logging.ERROR, format='%(asctime)s - %(levelname)s - %(message)s')\n",
    "\n",
    "    # Log to the console\n",
    "    console_handler = logging.StreamHandler()\n",
    "    console_handler.setLevel(logging.ERROR)\n",
    "    console_handler.setFormatter(logging.Formatter('%(levelname)s - %(message)s'))\n",
    "    logging.getLogger().addHandler(console_handler)\n",
    "\n",
    "    # Log to the \"errors.log\" file\n",
    "    file_handler = logging.FileHandler('errors.log', mode='a')\n",
    "    file_handler.setLevel(logging.ERROR)\n",
    "    file_handler.setFormatter(logging.Formatter('%(asctime)s - %(levelname)s - %(message)s'))\n",
    "    logging.getLogger().addHandler(file_handler)\n",
    "\n",
    "    # Log the exception message with type and timestamp\n",
    "    timestamp = datetime.now().strftime('%Y-%m-%d %H:%M:%S')\n",
    "    exception_message = f\"{timestamp} - Exception Type: {type(exception).__name__}\\n{traceback.format_exc()}\"\n",
    "    logging.error(exception_message)\n",
    "\n",
    "if __name__ == \"__main__\":\n",
    "    main()\n"
   ]
  },
  {
   "cell_type": "code",
   "execution_count": null,
   "id": "c429a1f1",
   "metadata": {},
   "outputs": [],
   "source": []
  }
 ],
 "metadata": {
  "kernelspec": {
   "display_name": "Python 3 (ipykernel)",
   "language": "python",
   "name": "python3"
  },
  "language_info": {
   "codemirror_mode": {
    "name": "ipython",
    "version": 3
   },
   "file_extension": ".py",
   "mimetype": "text/x-python",
   "name": "python",
   "nbconvert_exporter": "python",
   "pygments_lexer": "ipython3",
   "version": "3.9.13"
  }
 },
 "nbformat": 4,
 "nbformat_minor": 5
}
