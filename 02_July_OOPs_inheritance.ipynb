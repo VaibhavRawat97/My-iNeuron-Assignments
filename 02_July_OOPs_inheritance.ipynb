{
 "cells": [
  {
   "cell_type": "markdown",
   "id": "a60b4be6",
   "metadata": {},
   "source": [
    "Q1. Explain what inheritance is in object-oriented programming and why it is used."
   ]
  },
  {
   "cell_type": "markdown",
   "id": "870aa7a7",
   "metadata": {},
   "source": [
    "Answer\n",
    "\n",
    "Inheritance is a fundamental concept in object-oriented programming (OOP) that allows a new class (subclass or derived class) to inherit attributes and methods from an existing class (base class or parent class). The new class can reuse and extend the functionality of the existing class, promoting code reuse, modularity, and the creation of more specialized classes.\n",
    "\n",
    "Key points about inheritance in OOP:\n",
    "\n",
    "Base Class (Parent Class):\n",
    "\n",
    "The class whose attributes and methods are inherited is called the base class or parent class. It serves as a blueprint for creating other classes.\n",
    "\n",
    "Derived Class (Subclass):\n",
    "\n",
    "The class that inherits from another class is called the derived class or subclass. It inherits attributes and methods from the parent class and may add new attributes or override existing methods.\n",
    "\n",
    "Syntax for Inheritance (Python):\n"
   ]
  },
  {
   "cell_type": "markdown",
   "id": "9db31de2",
   "metadata": {},
   "source": [
    "Usage of Inheritance:\n",
    "\n",
    "Code Reusability: Inheritance allows for the reuse of code by inheriting common attributes and methods from a base class. This reduces redundancy and promotes modular design.\n",
    "\n",
    "Extensibility: The derived class can extend the functionality of the base class by adding new attributes and methods or by modifying existing ones. This supports the principle of open/closed design.\n",
    "\n",
    "Polymorphism: Inheritance is closely related to polymorphism, where objects of the derived class can be used interchangeably with objects of the base class.\n",
    "\n",
    "Hierarchy: Inheritance allows for the creation of class hierarchies, where classes are organized in a tree-like structure. This facilitates modeling real-world relationships and hierarchies."
   ]
  },
  {
   "cell_type": "markdown",
   "id": "2599a77a",
   "metadata": {},
   "source": [
    "Q2. Discuss the concept of single inheritance and multiple inheritance, highlighting their\n",
    "differences and advantages."
   ]
  },
  {
   "cell_type": "markdown",
   "id": "dac3e8e0",
   "metadata": {},
   "source": [
    "Answer\n",
    "\n",
    "Single Inheritance:\n",
    "\n",
    "Definition: Single inheritance is a type of inheritance in which a class can inherit attributes and methods from only one base class. In other words, there is a one-to-one relationship between a derived class and its base class.\n",
    "\n",
    "Advantages:\n",
    "\n",
    "Simplicity: Single inheritance is simpler to understand and implement.\n",
    "Reduced Complexity: The class hierarchy is less complex with a single parent-child relationship.\n",
    "\n",
    "Multiple Inheritance:\n",
    "\n",
    "Definition: Multiple inheritance is a type of inheritance in which a class can inherit attributes and methods from more than one base class. In other words, a derived class can have multiple parent classes.\n",
    "\n",
    "Advantages:\n",
    "\n",
    "Code Reusability: Multiple inheritance allows a class to inherit attributes and methods from multiple sources, promoting code reuse.\n",
    "Enhanced Flexibility: A class can be more versatile by inheriting capabilities from different classes.\n",
    "Expressive Relationships: Multiple inheritance can model complex relationships more accurately.\n",
    "Differences:\n",
    "\n",
    "Number of Base Classes:\n",
    "\n",
    "Single Inheritance: A derived class can have only one base class.\n",
    "Multiple Inheritance: A derived class can have more than one base class.\n",
    "\n",
    "Simplicity:\n",
    "\n",
    "Single Inheritance: Simpler to understand and implement.\n",
    "Multiple Inheritance: Can be more complex due to interactions between multiple base classes.\n",
    "\n",
    "Potential Issues:\n",
    "\n",
    "Single Inheritance: Avoids the complexities associated with the diamond problem (a common issue in multiple inheritance).\n",
    "Multiple Inheritance: May encounter the diamond problem, where ambiguity arises if a class inherits from two classes that have a common ancestor.\n",
    "\n",
    "Advantages:\n",
    "\n",
    "Single Inheritance: Simplicity and straightforward relationships.\n",
    "Multiple Inheritance: Code reusability, flexibility, and expressive relationships.\n",
    "Note: The diamond problem refers to the ambiguity that arises when a class inherits from two classes that have a common ancestor. It can lead to confusion about which version of a method or attribute should be used.\n",
    "\n",
    "Choosing Between Single and Multiple Inheritance:\n",
    "\n",
    "The choice between single and multiple inheritance depends on the specific requirements of the problem at hand. Single inheritance is often preferred for simplicity, while multiple inheritance can be beneficial for code reuse and modeling complex relationships. However, careful design and consideration are necessary to avoid potential issues like the diamond problem. In some cases, alternative design patterns, such as composition, may also be considered."
   ]
  },
  {
   "cell_type": "markdown",
   "id": "3baa8139",
   "metadata": {},
   "source": [
    "Q3. Explain the terms \"base class\" and \"derived class\" in the context of inheritance."
   ]
  },
  {
   "cell_type": "markdown",
   "id": "1187a38b",
   "metadata": {},
   "source": [
    "Answer\n",
    "\n",
    "In the context of inheritance in object-oriented programming (OOP), the terms \"base class\" and \"derived class\" refer to the classes involved in the inheritance relationship.\n",
    "\n",
    "Base Class (Parent Class):\n",
    "\n",
    "Definition: The base class, also known as the parent class or superclass, is the class whose attributes and methods are inherited by another class.\n",
    "Role: It serves as the foundation or blueprint for creating other classes.\n",
    "\n",
    "Derived Class (Subclass):\n",
    "\n",
    "Definition: The derived class, also known as the subclass or child class, is the class that inherits attributes and methods from another class (the base class).\n",
    "Role: It inherits the properties of the base class and may extend or modify its functionality.\n",
    "\n",
    "Key Points:\n",
    "\n",
    "The base class provides a general set of attributes and methods that can be shared by multiple derived classes.\n",
    "The derived class inherits the properties of the base class and can have its own additional attributes and methods.\n",
    "Inheritance establishes an \"is-a\" relationship, indicating that a derived class is a type of the base class.\n",
    "\n",
    "Usage:\n",
    "\n",
    "Base classes are designed to be generic and serve as a common foundation.\n",
    "Derived classes specialize or extend the functionality of the base class to model more specific entities."
   ]
  },
  {
   "cell_type": "markdown",
   "id": "d26f3b6e",
   "metadata": {},
   "source": [
    "Q4. What is the significance of the \"protected\" access modifier in inheritance? How does\n",
    "it differ from \"private\" and \"public\" modifiers?"
   ]
  },
  {
   "cell_type": "markdown",
   "id": "c1a3cdb2",
   "metadata": {},
   "source": [
    "Answer\n",
    "\n",
    "In object-oriented programming (OOP), access modifiers control the visibility and accessibility of class members (attributes and methods) within and outside the class. The three main access modifiers are \"public,\" \"protected,\" and \"private.\" The significance of the \"protected\" access modifier in the context of inheritance is related to the visibility of members in derived classes.\n",
    "\n",
    "Public Access Modifier:\n",
    "\n",
    "Significance: Members with the \"public\" access modifier are accessible from anywhere, both within and outside the class, including derived classes.\n",
    "\n",
    "Private Access Modifier:\n",
    "\n",
    "Significance: Members with the \"private\" access modifier are only accessible within the class where they are defined. They are not directly accessible in derived classes.\n",
    "\n",
    "Protected Access Modifier:\n",
    "\n",
    "Significance:\n",
    "Members with the \"protected\" access modifier are accessible within the class where they are defined and in derived classes.\n",
    "In Python, the convention is to use a single leading underscore (_) before the name of a member to indicate it is intended to be protected.\n",
    "\n",
    "ey Differences:\n",
    "\n",
    "Visibility:\n",
    "\n",
    "Public: Accessible everywhere, both within and outside the class, including derived classes.\n",
    "Private: Accessible only within the class where it is defined, not directly accessible in derived classes.\n",
    "Protected: Accessible within the class and in derived classes.\n",
    "\n",
    "Syntax:\n",
    "\n",
    "Public: No special syntax; members are declared without an underscore.\n",
    "Private: Double leading underscore (__) before the member name.\n",
    "Protected: Single leading underscore (_) before the member name (convention).\n",
    "\n",
    "Use Cases:\n",
    "\n",
    "Public: Suitable for attributes and methods intended to be widely accessible.\n",
    "Private: Useful for encapsulation, restricting access to internal details of the class.\n",
    "Protected: Allows access in derived classes, providing a balance between encapsulation and inheritance.\n",
    "\n",
    "Convention:\n",
    "\n",
    "Public: No leading underscore.\n",
    "Private: Double leading underscore (__).\n",
    "Protected: Single leading underscore (_) (convention)."
   ]
  },
  {
   "cell_type": "markdown",
   "id": "d8161c02",
   "metadata": {},
   "source": [
    "Q5. What is the purpose of the \"super\" keyword in inheritance? Provide an example."
   ]
  },
  {
   "cell_type": "markdown",
   "id": "c1d278bb",
   "metadata": {},
   "source": [
    "Answer\n",
    "\n",
    "The super keyword in Python is used in the context of inheritance to refer to the superclass or parent class. It is often used to call a method or access an attribute from the parent class within the context of the derived class. The primary purpose of super is to enable the derived class to extend or override the functionality of the parent class while still utilizing the parent class's implementation."
   ]
  },
  {
   "cell_type": "code",
   "execution_count": 2,
   "id": "911769ee",
   "metadata": {},
   "outputs": [
    {
     "name": "stdout",
     "output_type": "stream",
     "text": [
      "Animal speaks\n",
      "Dog barks\n"
     ]
    }
   ],
   "source": [
    "class Animal:\n",
    "    def speak(self):\n",
    "        print(\"Animal speaks\")\n",
    "\n",
    "class Dog(Animal):\n",
    "    def speak(self):\n",
    "        super().speak()  # Call the speak method from the base class\n",
    "        print(\"Dog barks\")\n",
    "\n",
    "# Example usage\n",
    "my_dog = Dog()\n",
    "my_dog.speak()"
   ]
  },
  {
   "cell_type": "markdown",
   "id": "9af4b524",
   "metadata": {},
   "source": [
    "In this example, the Dog class inherits from the Animal class. The speak method in the Dog class uses super().speak() to call the speak method from the Animal class before adding its own behavior. This allows the Dog class to extend the functionality of the Animal class without duplicating the entire implementation.\n",
    "\n",
    "Key Points:\n",
    "\n",
    "Calling Parent Class Methods:\n",
    "\n",
    "super() is used to call methods from the parent class, allowing the derived class to utilize and extend the functionality of the parent class.\n",
    "\n",
    "Avoiding Hardcoding Class Names:\n",
    "\n",
    "The use of super() avoids hardcoding the parent class name, making the code more maintainable. If the class hierarchy changes, you only need to update the class name in one place.\n",
    "\n",
    "Method Resolution Order (MRO):\n",
    "\n",
    "super() is particularly useful in multiple inheritance scenarios, where it respects the Method Resolution Order (MRO) to determine which class to call the method from.\n",
    "\n",
    "Initialization of Base Classes:\n",
    "\n",
    "super() is commonly used in the __init__ method to ensure that the initialization of base classes is properly executed before initializing the derived class."
   ]
  },
  {
   "cell_type": "markdown",
   "id": "03063f87",
   "metadata": {},
   "source": [
    "Q6. Create a base class called \"Vehicle\" with attributes like \"make\", \"model\", and \"year\".\n",
    "Then, create a derived class called \"Car\" that inherits from \"Vehicle\" and adds an\n",
    "attribute called \"fuel_type\". Implement appropriate methods in both classes."
   ]
  },
  {
   "cell_type": "code",
   "execution_count": 3,
   "id": "138cbc95",
   "metadata": {},
   "outputs": [
    {
     "name": "stdout",
     "output_type": "stream",
     "text": [
      "Make: Toyota, Model: Camry, Year: 2022\n",
      "Make: Tesla, Model: Model 3, Year: 2023\n",
      "Fuel Type: Electric\n"
     ]
    }
   ],
   "source": [
    "class Vehicle:\n",
    "    def __init__(self, make, model, year):\n",
    "        self.make = make\n",
    "        self.model = model\n",
    "        self.year = year\n",
    "\n",
    "    def display_info(self):\n",
    "        print(f\"Make: {self.make}, Model: {self.model}, Year: {self.year}\")\n",
    "\n",
    "class Car(Vehicle):\n",
    "    def __init__(self, make, model, year, fuel_type):\n",
    "        super().__init__(make, model, year)\n",
    "        self.fuel_type = fuel_type\n",
    "\n",
    "    def display_info(self):\n",
    "        super().display_info()  # Call the display_info method from the base class\n",
    "        print(f\"Fuel Type: {self.fuel_type}\")\n",
    "\n",
    "# Example usage\n",
    "my_vehicle = Vehicle(make=\"Toyota\", model=\"Camry\", year=2022)\n",
    "my_vehicle.display_info()\n",
    "\n",
    "my_car = Car(make=\"Tesla\", model=\"Model 3\", year=2023, fuel_type=\"Electric\")\n",
    "my_car.display_info()\n"
   ]
  },
  {
   "cell_type": "markdown",
   "id": "2b8fc16e",
   "metadata": {},
   "source": [
    "Q7. Create a base class called \"Employee\" with attributes like \"name\" and \"salary.\"\n",
    "Derive two classes, \"Manager\" and \"Developer,\" from \"Employee.\" Add an additional\n",
    "attribute called \"department\" for the \"Manager\" class and \"programming_language\"\n",
    "for the \"Developer\" class."
   ]
  },
  {
   "cell_type": "code",
   "execution_count": 4,
   "id": "2f0d5066",
   "metadata": {},
   "outputs": [
    {
     "name": "stdout",
     "output_type": "stream",
     "text": [
      "Name: John Doe, Salary: 80000\n",
      "Department: IT\n",
      "Name: Jane Doe, Salary: 70000\n",
      "Programming Language: Python\n"
     ]
    }
   ],
   "source": [
    "class Employee:\n",
    "    def __init__(self, name, salary):\n",
    "        self.name = name\n",
    "        self.salary = salary\n",
    "\n",
    "    def display_info(self):\n",
    "        print(f\"Name: {self.name}, Salary: {self.salary}\")\n",
    "\n",
    "class Manager(Employee):\n",
    "    def __init__(self, name, salary, department):\n",
    "        super().__init__(name, salary)\n",
    "        self.department = department\n",
    "\n",
    "    def display_info(self):\n",
    "        super().display_info()  # Call the display_info method from the base class\n",
    "        print(f\"Department: {self.department}\")\n",
    "\n",
    "class Developer(Employee):\n",
    "    def __init__(self, name, salary, programming_language):\n",
    "        super().__init__(name, salary)\n",
    "        self.programming_language = programming_language\n",
    "\n",
    "    def display_info(self):\n",
    "        super().display_info()  # Call the display_info method from the base class\n",
    "        print(f\"Programming Language: {self.programming_language}\")\n",
    "\n",
    "# Example usage\n",
    "manager = Manager(name=\"John Doe\", salary=80000, department=\"IT\")\n",
    "manager.display_info()\n",
    "\n",
    "developer = Developer(name=\"Jane Doe\", salary=70000, programming_language=\"Python\")\n",
    "developer.display_info()\n"
   ]
  },
  {
   "cell_type": "markdown",
   "id": "8f4d6c7a",
   "metadata": {},
   "source": [
    "Q8. Design a base class called \"Shape\" with attributes like \"colour\" and \"border_width.\"\n",
    "Create derived classes, \"Rectangle\" and \"Circle,\" that inherit from \"Shape\" and add\n",
    "specific attributes like \"length\" and \"width\" for the \"Rectangle\" class and \"radius\" for\n",
    "the \"Circle\" class."
   ]
  },
  {
   "cell_type": "code",
   "execution_count": 5,
   "id": "4b690ffd",
   "metadata": {},
   "outputs": [
    {
     "name": "stdout",
     "output_type": "stream",
     "text": [
      "Colour: Blue, Border Width: 2\n",
      "Length: 5, Width: 3\n",
      "Colour: Red, Border Width: 1\n",
      "Radius: 4\n"
     ]
    }
   ],
   "source": [
    "class Shape:\n",
    "    def __init__(self, colour, border_width):\n",
    "        self.colour = colour\n",
    "        self.border_width = border_width\n",
    "\n",
    "    def display_info(self):\n",
    "        print(f\"Colour: {self.colour}, Border Width: {self.border_width}\")\n",
    "\n",
    "class Rectangle(Shape):\n",
    "    def __init__(self, colour, border_width, length, width):\n",
    "        super().__init__(colour, border_width)\n",
    "        self.length = length\n",
    "        self.width = width\n",
    "\n",
    "    def display_info(self):\n",
    "        super().display_info()  # Call the display_info method from the base class\n",
    "        print(f\"Length: {self.length}, Width: {self.width}\")\n",
    "\n",
    "class Circle(Shape):\n",
    "    def __init__(self, colour, border_width, radius):\n",
    "        super().__init__(colour, border_width)\n",
    "        self.radius = radius\n",
    "\n",
    "    def display_info(self):\n",
    "        super().display_info()  # Call the display_info method from the base class\n",
    "        print(f\"Radius: {self.radius}\")\n",
    "\n",
    "# Example usage\n",
    "rectangle = Rectangle(colour=\"Blue\", border_width=2, length=5, width=3)\n",
    "rectangle.display_info()\n",
    "\n",
    "circle = Circle(colour=\"Red\", border_width=1, radius=4)\n",
    "circle.display_info()\n"
   ]
  },
  {
   "cell_type": "markdown",
   "id": "357177d6",
   "metadata": {},
   "source": [
    "Q9. Create a base class called \"Device\" with attributes like \"brand\" and \"model.\" Derive\n",
    "two classes, \"Phone\" and \"Tablet,\" from \"Device.\" Add specific attributes like\n",
    "\"screen_size\" for the \"Phone\" class and \"battery_capacity\" for the \"Tablet\" class.\n",
    "\n",
    "Answer"
   ]
  },
  {
   "cell_type": "code",
   "execution_count": 6,
   "id": "e6e95cb3",
   "metadata": {},
   "outputs": [
    {
     "name": "stdout",
     "output_type": "stream",
     "text": [
      "Brand: Samsung, Model: Galaxy S21\n",
      "Screen Size: 6.2 inches\n",
      "Brand: Apple, Model: iPad Air\n",
      "Battery Capacity: 7200 mAh\n"
     ]
    }
   ],
   "source": [
    "class Device:\n",
    "    def __init__(self, brand, model):\n",
    "        self.brand = brand\n",
    "        self.model = model\n",
    "\n",
    "    def display_info(self):\n",
    "        print(f\"Brand: {self.brand}, Model: {self.model}\")\n",
    "\n",
    "class Phone(Device):\n",
    "    def __init__(self, brand, model, screen_size):\n",
    "        super().__init__(brand, model)\n",
    "        self.screen_size = screen_size\n",
    "\n",
    "    def display_info(self):\n",
    "        super().display_info()  # Call the display_info method from the base class\n",
    "        print(f\"Screen Size: {self.screen_size}\")\n",
    "\n",
    "class Tablet(Device):\n",
    "    def __init__(self, brand, model, battery_capacity):\n",
    "        super().__init__(brand, model)\n",
    "        self.battery_capacity = battery_capacity\n",
    "\n",
    "    def display_info(self):\n",
    "        super().display_info()  # Call the display_info method from the base class\n",
    "        print(f\"Battery Capacity: {self.battery_capacity}\")\n",
    "\n",
    "# Example usage\n",
    "phone = Phone(brand=\"Samsung\", model=\"Galaxy S21\", screen_size=\"6.2 inches\")\n",
    "phone.display_info()\n",
    "\n",
    "tablet = Tablet(brand=\"Apple\", model=\"iPad Air\", battery_capacity=\"7200 mAh\")\n",
    "tablet.display_info()\n"
   ]
  },
  {
   "cell_type": "markdown",
   "id": "cb464449",
   "metadata": {},
   "source": [
    "Q10. Create a base class called \"BankAccount\" with attributes like \"account_number\" and\n",
    "\"balance.\" Derive two classes, \"SavingsAccount\" and \"CheckingAccount,\" from\n",
    "\"BankAccount.\" Add specific methods like \"calculate_interest\" for the\n",
    "\"SavingsAccount\" class and \"deduct_fees\" for the \"CheckingAccount\" class.\n",
    "\n",
    "Answer"
   ]
  },
  {
   "cell_type": "code",
   "execution_count": 7,
   "id": "8e2990ad",
   "metadata": {},
   "outputs": [
    {
     "name": "stdout",
     "output_type": "stream",
     "text": [
      "Interest Calculated: $25.00\n",
      "Account Number: SA12345, Balance: $1025.00\n",
      "Fees Deducted: $10.00\n",
      "Account Number: CA67890, Balance: $490.00\n"
     ]
    }
   ],
   "source": [
    "class BankAccount:\n",
    "    def __init__(self, account_number, balance):\n",
    "        self.account_number = account_number\n",
    "        self.balance = balance\n",
    "\n",
    "    def display_info(self):\n",
    "        print(f\"Account Number: {self.account_number}, Balance: ${self.balance:.2f}\")\n",
    "\n",
    "class SavingsAccount(BankAccount):\n",
    "    def calculate_interest(self, interest_rate):\n",
    "        interest = self.balance * (interest_rate / 100)\n",
    "        self.balance += interest\n",
    "        print(f\"Interest Calculated: ${interest:.2f}\")\n",
    "        self.display_info()\n",
    "\n",
    "class CheckingAccount(BankAccount):\n",
    "    def deduct_fees(self, fee_amount):\n",
    "        if self.balance >= fee_amount:\n",
    "            self.balance -= fee_amount\n",
    "            print(f\"Fees Deducted: ${fee_amount:.2f}\")\n",
    "            self.display_info()\n",
    "        else:\n",
    "            print(\"Insufficient funds to deduct fees.\")\n",
    "\n",
    "# Example usage\n",
    "savings_account = SavingsAccount(account_number=\"SA12345\", balance=1000)\n",
    "savings_account.calculate_interest(interest_rate=2.5)\n",
    "\n",
    "checking_account = CheckingAccount(account_number=\"CA67890\", balance=500)\n",
    "checking_account.deduct_fees(fee_amount=10)\n"
   ]
  },
  {
   "cell_type": "code",
   "execution_count": null,
   "id": "fd2ef424",
   "metadata": {},
   "outputs": [],
   "source": []
  }
 ],
 "metadata": {
  "kernelspec": {
   "display_name": "Python 3 (ipykernel)",
   "language": "python",
   "name": "python3"
  },
  "language_info": {
   "codemirror_mode": {
    "name": "ipython",
    "version": 3
   },
   "file_extension": ".py",
   "mimetype": "text/x-python",
   "name": "python",
   "nbconvert_exporter": "python",
   "pygments_lexer": "ipython3",
   "version": "3.9.13"
  }
 },
 "nbformat": 4,
 "nbformat_minor": 5
}
