{
 "cells": [
  {
   "cell_type": "markdown",
   "id": "0c348e30",
   "metadata": {},
   "source": [
    "Q.1. Create two int type variables, apply addition, subtraction, division and multiplications\n",
    "and store the results in variables. Then print the data in the following format by calling the\n",
    "variables:\n",
    "\n",
    "First variable is __ & second variable is __.\n",
    "\n",
    "Addition: __ + __ = __\n",
    "\n",
    "Subtraction: __ - __ = __\n",
    "\n",
    "Multiplication: __ * __ = __\n",
    "\n",
    "Division: __ / __ = __"
   ]
  },
  {
   "cell_type": "markdown",
   "id": "6a5f8bcb",
   "metadata": {},
   "source": [
    "Answer"
   ]
  },
  {
   "cell_type": "code",
   "execution_count": 1,
   "id": "39905590",
   "metadata": {},
   "outputs": [
    {
     "name": "stdout",
     "output_type": "stream",
     "text": [
      "First variable is 34.96 & second variable is 75.87\n",
      "Addition: 34.96 + 75.87 = 110.83000000000001\n",
      "Subtraction: 34.96 - 75.87 = -40.910000000000004\n",
      "Multiplication: 34.96 * 75.87 = 2652.4152000000004\n",
      "Division: 34.96 / 75.87 = 0.46078819032555685\n"
     ]
    }
   ],
   "source": [
    "# Create two int type variables\n",
    "first_variable = 34.96\n",
    "second_variable = 75.87\n",
    "\n",
    "# Perform arithmetic operations\n",
    "addition_result = first_variable + second_variable\n",
    "subtraction_result = first_variable - second_variable\n",
    "multiplication_result = first_variable * second_variable\n",
    "\n",
    "# Check if the second variable is not zero before performing division to avoid division by zero\n",
    "if second_variable != 0:\n",
    "    division_result = first_variable / second_variable\n",
    "else:\n",
    "    division_result = \"Undefined (division by zero)\"\n",
    "\n",
    "# Print the results\n",
    "print(\"First variable is\", first_variable, \"& second variable is\", second_variable)\n",
    "print(\"Addition:\", first_variable, \"+\", second_variable, \"=\", addition_result)\n",
    "print(\"Subtraction:\", first_variable, \"-\", second_variable, \"=\", subtraction_result)\n",
    "print(\"Multiplication:\", first_variable, \"*\", second_variable, \"=\", multiplication_result)\n",
    "print(\"Division:\", first_variable, \"/\", second_variable, \"=\", division_result)\n"
   ]
  },
  {
   "cell_type": "markdown",
   "id": "226da651",
   "metadata": {},
   "source": [
    "Q.2. What is the difference between the following operators:\n",
    "\n",
    "(i) ‘/’ & ‘//’\n",
    "\n",
    "(ii) ‘**’ & ‘^’"
   ]
  },
  {
   "cell_type": "markdown",
   "id": "b8904f55",
   "metadata": {},
   "source": [
    "Answer\n",
    "\n",
    "The operators have distinct purposes:\n",
    "\n",
    "(i) / and //:\n",
    "\n",
    "/ is the division operator, and it returns the result of the division operation as a floating-point number.\n",
    "\n",
    "// is the floor division operator, and it returns the quotient of the division rounded down to the nearest integer. \n",
    "\n",
    "It essentially discards the fractional part."
   ]
  },
  {
   "cell_type": "code",
   "execution_count": 3,
   "id": "a6c0100d",
   "metadata": {},
   "outputs": [
    {
     "name": "stdout",
     "output_type": "stream",
     "text": [
      "2.3333333333333335\n",
      "2\n"
     ]
    }
   ],
   "source": [
    "# Example\n",
    "result1 = 7 / 3    # result1 is 2.333...\n",
    "result2 = 7 // 3   # result2 is 2\n",
    "print(result1)\n",
    "print(result2)"
   ]
  },
  {
   "cell_type": "markdown",
   "id": "de3ed627",
   "metadata": {},
   "source": [
    "(ii) ** and ^:\n",
    "\n",
    "** is the exponentiation operator. It raises the left operand to the power of the right operand.\n",
    "\n",
    "^ is the bitwise XOR (exclusive OR) operator, not the exponentiation operator. \n",
    "\n",
    "It performs bitwise XOR on corresponding bits of the two operands."
   ]
  },
  {
   "cell_type": "code",
   "execution_count": 4,
   "id": "cc24cf74",
   "metadata": {},
   "outputs": [
    {
     "name": "stdout",
     "output_type": "stream",
     "text": [
      "8\n",
      "1\n"
     ]
    }
   ],
   "source": [
    "# Example\n",
    "result3 = 2 ** 3   # result3 is 8\n",
    "result4 = 2 ^ 3    # result4 is 1 (bitwise XOR of binary 10 and 11)\n",
    "print(result3)\n",
    "print(result4)"
   ]
  },
  {
   "cell_type": "markdown",
   "id": "2acbe4ae",
   "metadata": {},
   "source": [
    "Q.3. List the logical operators."
   ]
  },
  {
   "cell_type": "markdown",
   "id": "20e9a2a5",
   "metadata": {},
   "source": [
    "Answer"
   ]
  },
  {
   "cell_type": "markdown",
   "id": "b1d45c15",
   "metadata": {},
   "source": [
    "Logical operators are used to perform logical operations between two or more conditions or values. \n",
    "\n",
    "In Python, the main logical operators are:\n",
    "\n",
    "and: Returns True if both conditions are true, otherwise False.\n",
    "\n",
    "or: Returns True if at least one of the conditions is true, otherwise False.\n",
    "\n",
    "not: Returns the opposite of the given condition. If the condition is True, not makes it False, and vice versa."
   ]
  },
  {
   "cell_type": "markdown",
   "id": "a9be6441",
   "metadata": {},
   "source": [
    "Q.4. Explain right shift operator and left shift operator with examples."
   ]
  },
  {
   "cell_type": "markdown",
   "id": "740ec6ae",
   "metadata": {},
   "source": [
    "Answer"
   ]
  },
  {
   "cell_type": "markdown",
   "id": "5ca8fe59",
   "metadata": {},
   "source": [
    "The right shift (>>) and left shift (<<) operators are bitwise operators in Python that perform shifting of bits in binary representation of integers.\n",
    "\n",
    "Right Shift Operator (>>):\n",
    "\n",
    "The right shift operator shifts the bits of a number to the right by a specified number of positions.\n",
    "\n",
    "It's equivalent to dividing the number by 2 raised to the power of the specified shift amount, and it discards the rightmost bits.\n",
    "\n",
    "Syntax: x >> y, where x is the number to be shifted, and y is the number of positions to shift."
   ]
  },
  {
   "cell_type": "code",
   "execution_count": 5,
   "id": "4c0a1d71",
   "metadata": {},
   "outputs": [
    {
     "name": "stdout",
     "output_type": "stream",
     "text": [
      "4\n"
     ]
    }
   ],
   "source": [
    "# Example\n",
    "num = 16\n",
    "result = num >> 2  # Right shift by 2 positions\n",
    "print(result)      # Output: 4"
   ]
  },
  {
   "cell_type": "markdown",
   "id": "6fbda7ef",
   "metadata": {},
   "source": [
    "In binary, 16 is 10000, and after right shifting by 2 positions, it becomes 0001, which is 4 in decimal.\n",
    "\n",
    "Left Shift Operator (<<):\n",
    "\n",
    "The left shift operator shifts the bits of a number to the left by a specified number of positions.\n",
    "\n",
    "It's equivalent to multiplying the number by 2 raised to the power of the specified shift amount.\n",
    "\n",
    "Syntax: x << y, where x is the number to be shifted, and y is the number of positions to shift."
   ]
  },
  {
   "cell_type": "code",
   "execution_count": 6,
   "id": "4a3391eb",
   "metadata": {},
   "outputs": [
    {
     "name": "stdout",
     "output_type": "stream",
     "text": [
      "64\n"
     ]
    }
   ],
   "source": [
    "# Example\n",
    "num = 8\n",
    "result = num << 3  # Left shift by 3 positions\n",
    "print(result)      # Output: 64"
   ]
  },
  {
   "cell_type": "markdown",
   "id": "9c7e23b9",
   "metadata": {},
   "source": [
    "In binary, 8 is 1000, and after left shifting by 3 positions, it becomes 1000000, which is 64 in decimal.\n",
    "\n",
    "These operators are often used in low-level programming, optimization, and certain bitwise manipulation scenarios."
   ]
  },
  {
   "cell_type": "markdown",
   "id": "c3ed6902",
   "metadata": {},
   "source": [
    "Q.5. Create a list containing int type data of length 15. Then write a code to check if 10 is\n",
    "present in the list or not."
   ]
  },
  {
   "cell_type": "code",
   "execution_count": 7,
   "id": "aa1459d3",
   "metadata": {},
   "outputs": [
    {
     "name": "stdout",
     "output_type": "stream",
     "text": [
      "10 is present in the list.\n"
     ]
    }
   ],
   "source": [
    "# Answer\n",
    "# Create a list of integers\n",
    "my_list = [5, 8, 2, 10, 15, 7, 12, 3, 6, 20, 1, 18, 9, 4, 14]\n",
    "\n",
    "# Check if 10 is present in the list\n",
    "if 10 in my_list:\n",
    "    print(\"10 is present in the list.\")\n",
    "else:\n",
    "    print(\"10 is not present in the list.\")"
   ]
  },
  {
   "cell_type": "code",
   "execution_count": null,
   "id": "d275ecd9",
   "metadata": {},
   "outputs": [],
   "source": []
  }
 ],
 "metadata": {
  "kernelspec": {
   "display_name": "Python 3 (ipykernel)",
   "language": "python",
   "name": "python3"
  },
  "language_info": {
   "codemirror_mode": {
    "name": "ipython",
    "version": 3
   },
   "file_extension": ".py",
   "mimetype": "text/x-python",
   "name": "python",
   "nbconvert_exporter": "python",
   "pygments_lexer": "ipython3",
   "version": "3.9.13"
  }
 },
 "nbformat": 4,
 "nbformat_minor": 5
}
