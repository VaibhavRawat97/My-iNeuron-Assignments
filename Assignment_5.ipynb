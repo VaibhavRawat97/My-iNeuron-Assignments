{
 "cells": [
  {
   "cell_type": "code",
   "execution_count": 22,
   "id": "70bb35a8",
   "metadata": {},
   "outputs": [],
   "source": [
    "#1. What does an empty dictionary's code look like?"
   ]
  },
  {
   "cell_type": "code",
   "execution_count": 23,
   "id": "8096feed",
   "metadata": {},
   "outputs": [],
   "source": [
    "# Answer\n",
    "# An empty dictionary is created using curly braces {}.\n",
    "empty_dict = {}"
   ]
  },
  {
   "cell_type": "code",
   "execution_count": 24,
   "id": "d1da2352",
   "metadata": {},
   "outputs": [],
   "source": [
    "#2. What is the value of a dictionary value with the key &#39;foo&#39; and the value 42?"
   ]
  },
  {
   "cell_type": "code",
   "execution_count": 25,
   "id": "3b9e0f29",
   "metadata": {},
   "outputs": [
    {
     "name": "stdout",
     "output_type": "stream",
     "text": [
      "42\n"
     ]
    }
   ],
   "source": [
    "# Answer\n",
    "my_dict = {'foo': 42}\n",
    "value = my_dict['foo']\n",
    "print(value)  "
   ]
  },
  {
   "cell_type": "code",
   "execution_count": 26,
   "id": "ede131db",
   "metadata": {},
   "outputs": [],
   "source": [
    "#3. What is the most significant distinction between a dictionary and a list?"
   ]
  },
  {
   "cell_type": "code",
   "execution_count": 27,
   "id": "14c8b02b",
   "metadata": {},
   "outputs": [],
   "source": [
    "# Answer\n",
    "#In the dictionary, we use keys to access corresponding values.\n",
    "#In the list, we use indices to access elements based on their position in the list."
   ]
  },
  {
   "cell_type": "code",
   "execution_count": 28,
   "id": "22d6c96a",
   "metadata": {},
   "outputs": [],
   "source": [
    "#4. What happens if you try to access spam['foo'] if spam is {'bar': 100}?"
   ]
  },
  {
   "cell_type": "code",
   "execution_count": 29,
   "id": "a7d6d608",
   "metadata": {},
   "outputs": [],
   "source": [
    "# Answer\n",
    "#If you try to access spam['foo'] and spam is a dictionary containing {'bar': 100}, you will get a KeyError.\n",
    "#This error occurs because there is no key 'foo' in the dictionary spam."
   ]
  },
  {
   "cell_type": "code",
   "execution_count": 30,
   "id": "7f467ae4",
   "metadata": {},
   "outputs": [
    {
     "ename": "KeyError",
     "evalue": "'foo'",
     "output_type": "error",
     "traceback": [
      "\u001b[1;31m---------------------------------------------------------------------------\u001b[0m",
      "\u001b[1;31mKeyError\u001b[0m                                  Traceback (most recent call last)",
      "\u001b[1;32m~\\AppData\\Local\\Temp\\ipykernel_32204\\1690173760.py\u001b[0m in \u001b[0;36m<module>\u001b[1;34m\u001b[0m\n\u001b[0;32m      1\u001b[0m \u001b[0mspam\u001b[0m \u001b[1;33m=\u001b[0m \u001b[1;33m{\u001b[0m\u001b[1;34m'bar'\u001b[0m\u001b[1;33m:\u001b[0m \u001b[1;36m100\u001b[0m\u001b[1;33m}\u001b[0m\u001b[1;33m\u001b[0m\u001b[1;33m\u001b[0m\u001b[0m\n\u001b[1;32m----> 2\u001b[1;33m \u001b[0mvalue\u001b[0m \u001b[1;33m=\u001b[0m \u001b[0mspam\u001b[0m\u001b[1;33m[\u001b[0m\u001b[1;34m'foo'\u001b[0m\u001b[1;33m]\u001b[0m\u001b[1;33m\u001b[0m\u001b[1;33m\u001b[0m\u001b[0m\n\u001b[0m",
      "\u001b[1;31mKeyError\u001b[0m: 'foo'"
     ]
    }
   ],
   "source": [
    "spam = {'bar': 100}\n",
    "value = spam['foo']  "
   ]
  },
  {
   "cell_type": "code",
   "execution_count": 31,
   "id": "330bb416",
   "metadata": {},
   "outputs": [],
   "source": [
    "#5. If a dictionary is stored in spam, what is the difference between \n",
    "# the expressions 'cat' in spam and 'cat' in spam.keys()?"
   ]
  },
  {
   "cell_type": "code",
   "execution_count": 32,
   "id": "8aab0a1b",
   "metadata": {},
   "outputs": [],
   "source": [
    "# Answer\n",
    "# We will apply both these cases with examples and compare the differences.  "
   ]
  },
  {
   "cell_type": "code",
   "execution_count": 33,
   "id": "49bc13fd",
   "metadata": {},
   "outputs": [
    {
     "name": "stdout",
     "output_type": "stream",
     "text": [
      "True\n"
     ]
    }
   ],
   "source": [
    "# (i) 'cat' in spam\n",
    "spam = {'cat': 3, 'dog': 2, 'rabbit': 1}\n",
    "result = 'cat' in spam\n",
    "print(result)"
   ]
  },
  {
   "cell_type": "code",
   "execution_count": 34,
   "id": "93650c48",
   "metadata": {},
   "outputs": [
    {
     "name": "stdout",
     "output_type": "stream",
     "text": [
      "True\n"
     ]
    }
   ],
   "source": [
    "# (ii) 'cat' in spam.keys()\n",
    "result = 'cat' in spam.keys()\n",
    "print(result)"
   ]
  },
  {
   "cell_type": "code",
   "execution_count": 35,
   "id": "b1cd9942",
   "metadata": {},
   "outputs": [],
   "source": [
    "# Both expressions 'cat' in spam and 'cat' in spam.keys() can be used to check if a key exists in a dictionary.\n",
    "# For practical purposes, you can use either expression to check for the existence of a key in a dictionary,\n",
    "# and they will yield the same result."
   ]
  },
  {
   "cell_type": "code",
   "execution_count": 36,
   "id": "72fca632",
   "metadata": {},
   "outputs": [],
   "source": [
    "# 6. If a dictionary is stored in spam, what is the difference between the expressions 'cat' in spam and\n",
    "# 'cat' in spam.values()?"
   ]
  },
  {
   "cell_type": "code",
   "execution_count": 37,
   "id": "0457a4da",
   "metadata": {},
   "outputs": [],
   "source": [
    "# Answer\n",
    "# As we can see this is same question as previous one, here the only difference is that we have to find \n",
    "# for 'cat' in spam.values()."
   ]
  },
  {
   "cell_type": "code",
   "execution_count": 38,
   "id": "4725c555",
   "metadata": {},
   "outputs": [
    {
     "name": "stdout",
     "output_type": "stream",
     "text": [
      "False\n"
     ]
    }
   ],
   "source": [
    "# 'cat' in spam.values()\n",
    "result = 'cat' in spam.values()\n",
    "print(result)"
   ]
  },
  {
   "cell_type": "code",
   "execution_count": 39,
   "id": "04389ef9",
   "metadata": {},
   "outputs": [],
   "source": [
    "# Since 'cat' is not a value in the dictionary, the result came out as False."
   ]
  },
  {
   "cell_type": "code",
   "execution_count": 40,
   "id": "b7c07251",
   "metadata": {},
   "outputs": [],
   "source": [
    "# 7. What is a shortcut for the following code?\n",
    "# if 'color' not in spam:\n",
    "# spam['color'] = 'black'"
   ]
  },
  {
   "cell_type": "code",
   "execution_count": 50,
   "id": "e08bc296",
   "metadata": {},
   "outputs": [
    {
     "name": "stdout",
     "output_type": "stream",
     "text": [
      "{'cat': 3, 'dog': 2, 'rabbit': 1, 'color': 'black'}\n"
     ]
    }
   ],
   "source": [
    "# Answer\n",
    "# Lets test this out right now !\n",
    "if 'color' not in spam:\n",
    "    spam['color'] = 'black'\n",
    "print(spam)"
   ]
  },
  {
   "cell_type": "code",
   "execution_count": 52,
   "id": "419cde1e",
   "metadata": {},
   "outputs": [
    {
     "name": "stdout",
     "output_type": "stream",
     "text": [
      "{'cat': 3, 'dog': 2, 'rabbit': 1, 'color': 'black', 'Best Chicken': 'KFC'}\n"
     ]
    }
   ],
   "source": [
    "# Alright so we can see that color and black gets added to the spam dictionary as the \n",
    "# new key and value.\n",
    "# There is one more way of getting the same outcome.\n",
    "# Lets say we want to add one more key and value pair to our spam dictionary.\n",
    "spam.setdefault('Best Chicken', 'KFC')\n",
    "print(spam)"
   ]
  },
  {
   "cell_type": "code",
   "execution_count": 53,
   "id": "dfeb7e90",
   "metadata": {},
   "outputs": [],
   "source": [
    "# 8. How do you \"pretty print\" dictionary values using which module and function?"
   ]
  },
  {
   "cell_type": "code",
   "execution_count": 55,
   "id": "a9ae01b4",
   "metadata": {},
   "outputs": [],
   "source": [
    "# Answer\n",
    "# We can \"pretty print\" dictionary values in Python using the json module.\n",
    "import json"
   ]
  },
  {
   "cell_type": "code",
   "execution_count": 56,
   "id": "0073330c",
   "metadata": {},
   "outputs": [
    {
     "name": "stdout",
     "output_type": "stream",
     "text": [
      "{\n",
      "      \"cat\": 3,\n",
      "      \"dog\": 2,\n",
      "      \"rabbit\": 1,\n",
      "      \"color\": \"black\",\n",
      "      \"Best Chicken\": \"KFC\"\n",
      "}\n"
     ]
    }
   ],
   "source": [
    "pretty_json = json.dumps(spam, indent=6)\n",
    "print(pretty_json)"
   ]
  },
  {
   "cell_type": "code",
   "execution_count": 57,
   "id": "1d67e88b",
   "metadata": {},
   "outputs": [
    {
     "name": "stdout",
     "output_type": "stream",
     "text": [
      "{'cat': 3, 'dog': 2, 'rabbit': 1, 'color': 'black', 'Best Chicken': 'KFC'}\n"
     ]
    }
   ],
   "source": [
    "print(spam)"
   ]
  },
  {
   "cell_type": "code",
   "execution_count": null,
   "id": "3af212d2",
   "metadata": {},
   "outputs": [],
   "source": [
    "# So we can clearly see the structural differences between the outcomes when we type 'print(spam)'\n",
    "# and 'print(pretty_json)'.\n",
    "# And this last question marks the end of this assignment."
   ]
  }
 ],
 "metadata": {
  "kernelspec": {
   "display_name": "Python 3 (ipykernel)",
   "language": "python",
   "name": "python3"
  },
  "language_info": {
   "codemirror_mode": {
    "name": "ipython",
    "version": 3
   },
   "file_extension": ".py",
   "mimetype": "text/x-python",
   "name": "python",
   "nbconvert_exporter": "python",
   "pygments_lexer": "ipython3",
   "version": "3.9.13"
  }
 },
 "nbformat": 4,
 "nbformat_minor": 5
}
