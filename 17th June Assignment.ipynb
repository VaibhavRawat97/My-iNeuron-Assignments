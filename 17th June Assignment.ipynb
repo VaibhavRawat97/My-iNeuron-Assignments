{
 "cells": [
  {
   "cell_type": "markdown",
   "id": "694d6ba5",
   "metadata": {},
   "source": [
    "Q1. What is the role of try and exception block?"
   ]
  },
  {
   "cell_type": "markdown",
   "id": "7f94deef",
   "metadata": {},
   "source": [
    "Answer\n",
    "\n",
    "The try and except blocks in Python are used for exception handling, allowing you to handle errors and exceptions that might occur during the execution of your code. The primary role of these blocks is to gracefully handle unexpected situations and prevent the program from terminating abruptly."
   ]
  },
  {
   "cell_type": "markdown",
   "id": "08110dce",
   "metadata": {},
   "source": [
    "Q2. What is the syntax for a basic try-except block?"
   ]
  },
  {
   "cell_type": "markdown",
   "id": "4be4cd14",
   "metadata": {},
   "source": [
    "Answer\n",
    "\n",
    "Here's a breakdown of the syntax:\n",
    "\n",
    "The try block contains the code that might raise an exception. This is the section where we anticipate potential issues.\n",
    "\n",
    "The except block follows the try block and contains the code that should be executed if a specific exception (specified by SomeExceptionType) occurs in the try block.\n",
    "\n",
    "SomeExceptionType should be replaced with the actual exception type we want to catch. For example, ZeroDivisionError, ValueError, or any other exception class."
   ]
  },
  {
   "cell_type": "code",
   "execution_count": 2,
   "id": "fd1d36f6",
   "metadata": {},
   "outputs": [
    {
     "name": "stdout",
     "output_type": "stream",
     "text": [
      "Cannot divide by zero!\n"
     ]
    }
   ],
   "source": [
    "try:\n",
    "    result = 10 / 0  # This will raise a ZeroDivisionError\n",
    "except ZeroDivisionError:\n",
    "    print(\"Cannot divide by zero!\")\n"
   ]
  },
  {
   "cell_type": "markdown",
   "id": "dfe7a64c",
   "metadata": {},
   "source": [
    "Q3. What happens if an exception occurs inside a try block and there is no matching\n",
    "except block?"
   ]
  },
  {
   "cell_type": "markdown",
   "id": "7330d73d",
   "metadata": {},
   "source": [
    "Answer\n",
    "\n",
    "If an exception occurs inside a try block, and there is no matching except block to handle that specific type of exception, the exception will propagate up the call stack. If no higher-level code handles the exception, the program will terminate, and an error message will be displayed, indicating the type of exception and a traceback."
   ]
  },
  {
   "cell_type": "markdown",
   "id": "1711e2e0",
   "metadata": {},
   "source": [
    "Q4. What is the difference between using a bare except block and specifying a specific\n",
    "exception type?"
   ]
  },
  {
   "cell_type": "markdown",
   "id": "1ae964f7",
   "metadata": {},
   "source": [
    "Answer\n",
    "\n",
    "In Python, the except block can be used in two ways: with a specific exception type or as a bare except block. The key difference lies in the level of specificity in handling exceptions.\n",
    "\n",
    "Specific Exception Type:\n",
    "\n",
    "When we specify a particular exception type in the except block, it means that the block will only handle exceptions of that specific type or its subclasses.\n",
    "This allows you to tailor your response to different types of exceptions."
   ]
  },
  {
   "cell_type": "code",
   "execution_count": 4,
   "id": "776ca16a",
   "metadata": {},
   "outputs": [
    {
     "name": "stdout",
     "output_type": "stream",
     "text": [
      "Cannot divide by zero!\n"
     ]
    }
   ],
   "source": [
    "try:\n",
    "    result = 10 / 0\n",
    "except ZeroDivisionError:\n",
    "    print(\"Cannot divide by zero!\")\n"
   ]
  },
  {
   "cell_type": "markdown",
   "id": "6a03542c",
   "metadata": {},
   "source": [
    "In this example, the except ZeroDivisionError block will handle only ZeroDivisionError exceptions.\n",
    "\n",
    "Bare except Block:\n",
    "\n",
    "A bare except block, without specifying any exception type, is more general. It will catch any exception, regardless of its type.\n",
    "While it provides a way to handle unexpected exceptions, it can make debugging and understanding the code more challenging, as it catches all exceptions, including those we may not have anticipated."
   ]
  },
  {
   "cell_type": "code",
   "execution_count": 5,
   "id": "52f01dcd",
   "metadata": {},
   "outputs": [
    {
     "name": "stdout",
     "output_type": "stream",
     "text": [
      "An unexpected error occurred!\n"
     ]
    }
   ],
   "source": [
    "try:\n",
    "    result = 10 / 0\n",
    "except:\n",
    "    print(\"An unexpected error occurred!\")\n"
   ]
  },
  {
   "cell_type": "markdown",
   "id": "7e358f45",
   "metadata": {},
   "source": [
    "In this example, the bare except block will catch any exception, including ZeroDivisionError and other unexpected exceptions.\n",
    "\n",
    "Choosing Between Specific and Bare except Blocks:\n",
    "\n",
    "Use specific exception types when we want to handle different exceptions differently, providing a more tailored response for each case.\n",
    "Use a bare except block when we want a more general approach, catching any exception. However, be cautious about using bare except blocks, as they may hide errors and make debugging more challenging.\n",
    "It's generally recommended to be as specific as possible when handling exceptions to ensure that your code responds appropriately to different error scenarios. If we choose to use a bare except block, consider logging information about the exception to aid in debugging."
   ]
  },
  {
   "cell_type": "markdown",
   "id": "7f6d2735",
   "metadata": {},
   "source": [
    "Q5. Can you have nested try-except blocks in Python? If yes, then give an example."
   ]
  },
  {
   "cell_type": "markdown",
   "id": "bee08263",
   "metadata": {},
   "source": [
    "Answer\n",
    "\n",
    "Yes, we can have nested try and except blocks in Python. This means that we can place one try block inside another, and each try block can have its own set of except blocks."
   ]
  },
  {
   "cell_type": "code",
   "execution_count": 6,
   "id": "0ddbfa05",
   "metadata": {},
   "outputs": [
    {
     "name": "stdout",
     "output_type": "stream",
     "text": [
      "Enter the numerator: 55\n",
      "Enter the denominator: 45\n",
      "Outer Block: Division successful.\n",
      "Result: 1.2222222222222223\n"
     ]
    }
   ],
   "source": [
    "try:\n",
    "    # Outer try block\n",
    "    numerator = int(input(\"Enter the numerator: \"))\n",
    "    denominator = int(input(\"Enter the denominator: \"))\n",
    "\n",
    "    try:\n",
    "        # Inner try block\n",
    "        result = numerator / denominator\n",
    "    except ZeroDivisionError:\n",
    "        print(\"Inner Block: Cannot divide by zero!\")\n",
    "except ValueError:\n",
    "    print(\"Outer Block: Please enter valid integers.\")\n",
    "else:\n",
    "    print(\"Outer Block: Division successful.\")\n",
    "    print(\"Result:\", result)\n"
   ]
  },
  {
   "cell_type": "markdown",
   "id": "aec2f7b5",
   "metadata": {},
   "source": [
    "In this example:\n",
    "\n",
    "The outer try block attempts to get user input for the numerator and denominator.\n",
    "\n",
    "Inside the outer try block, there is an inner try block that performs the division.\n",
    "\n",
    "The inner except block catches a ZeroDivisionError if the denominator is zero.\n",
    "\n",
    "The outer except block catches a ValueError if the user does not enter valid integers.\n",
    "\n",
    "The else block of the outer try block executes if no exception occurs in the outer try block.\n",
    "\n",
    "Nested try and except blocks can be useful when you want to handle exceptions at different levels of granularity. The innermost except block catches exceptions specific to the inner try block, while the outer except block catches exceptions that may occur during the entire process."
   ]
  },
  {
   "cell_type": "markdown",
   "id": "33beb3a8",
   "metadata": {},
   "source": [
    "Q6. Can we use multiple exception blocks, if yes then give an example."
   ]
  },
  {
   "cell_type": "markdown",
   "id": "2c1e66f1",
   "metadata": {},
   "source": [
    "Answer\n",
    "\n",
    "Yes, we can use multiple except blocks to handle different types of exceptions in Python. This allows us to provide specific handling for various exception scenarios."
   ]
  },
  {
   "cell_type": "code",
   "execution_count": 7,
   "id": "86289447",
   "metadata": {},
   "outputs": [
    {
     "name": "stdout",
     "output_type": "stream",
     "text": [
      "Enter the first number: 34\n",
      "Enter the second number: 56\n",
      "Division successful.\n",
      "Result: 0.6071428571428571\n"
     ]
    }
   ],
   "source": [
    "try:\n",
    "    num1 = int(input(\"Enter the first number: \"))\n",
    "    num2 = int(input(\"Enter the second number: \"))\n",
    "\n",
    "    result = num1 / num2\n",
    "\n",
    "except ValueError:\n",
    "    print(\"Invalid input! Please enter valid integers.\")\n",
    "except ZeroDivisionError:\n",
    "    print(\"Cannot divide by zero!\")\n",
    "except Exception as e:\n",
    "    print(f\"An unexpected error occurred: {e}\")\n",
    "else:\n",
    "    print(\"Division successful.\")\n",
    "    print(\"Result:\", result)\n"
   ]
  },
  {
   "cell_type": "markdown",
   "id": "24c41c73",
   "metadata": {},
   "source": [
    "Q7. Write the reason due to which following errors are raised:\n",
    "\n",
    "a. EOFError\n",
    "\n",
    "b. FloatingPointError\n",
    "\n",
    "c. IndexError\n",
    "\n",
    "d. MemoryError\n",
    "\n",
    "e. OverflowError\n",
    "\n",
    "f. TabError\n",
    "\n",
    "g. ValueError"
   ]
  },
  {
   "cell_type": "markdown",
   "id": "1ad4f52b",
   "metadata": {},
   "source": [
    "Answer\n",
    "\n",
    "Here are explanations for the errors mentioned:\n",
    "\n",
    "a. EOFError:\n",
    "\n",
    "Reason: Stands for \"End of File Error.\" It is raised when the input() function hits the end-of-file condition (EOF) without receiving any data. This can occur when using input() to get user input from the console, and the user presses Ctrl+D (Unix/Linux) or Ctrl+Z (Windows) to signal the end of input.\n",
    "\n",
    "b. FloatingPointError:\n",
    "\n",
    "Reason: Raised when a floating-point operation, such as division by zero or an operation resulting in an undefined value like infinity or NaN, occurs. For example, dividing a number by zero or taking the square root of a negative number.\n",
    "\n",
    "c. IndexError:\n",
    "\n",
    "Reason: Raised when trying to access an index in a sequence (list, tuple, string, etc.) that is outside the valid range of indices. This typically happens when attempting to access an element at an index that doesn't exist.\n",
    "\n",
    "d. MemoryError:\n",
    "\n",
    "Reason: Raised when an operation runs out of memory, indicating that the Python interpreter cannot allocate the required amount of memory for an object or operation.\n",
    "\n",
    "e. OverflowError:\n",
    "\n",
    "Reason: Raised when an arithmetic operation exceeds the limits of the data type, resulting in a value too large to be represented. For example, trying to calculate an exponentiation that results in a number larger than the maximum representable value for the data type.\n",
    "\n",
    "f. TabError:\n",
    "\n",
    "Reason: Raised when inconsistent use of tabs and spaces is detected in the indentation of a block of code. Python expects consistent indentation, either all tabs or all spaces, and a mixture of both can lead to a TabError.\n",
    "\n",
    "g. ValueError:\n",
    "\n",
    "Reason: Raised when an operation or function receives an argument of the correct type but with an invalid value. For example, passing a string that cannot be converted to an integer using int().\n"
   ]
  },
  {
   "cell_type": "markdown",
   "id": "85854018",
   "metadata": {},
   "source": [
    "Q8. Write code for the following given scenario and add try-exception block to it.\n",
    "\n",
    "a. Program to divide two numbers\n",
    "\n",
    "b. Program to convert a string to an integer\n",
    "\n",
    "c. Program to access an element in a list\n",
    "\n",
    "d. Program to handle a specific exception\n",
    "\n",
    "e. Program to handle any exception"
   ]
  },
  {
   "cell_type": "markdown",
   "id": "34f63b5d",
   "metadata": {},
   "source": [
    "Answer"
   ]
  },
  {
   "cell_type": "code",
   "execution_count": 8,
   "id": "f6b57ccc",
   "metadata": {},
   "outputs": [
    {
     "name": "stdout",
     "output_type": "stream",
     "text": [
      "Enter the numerator: 45\n",
      "Enter the denominator: 34\n",
      "Result: 1.3235294117647058\n"
     ]
    }
   ],
   "source": [
    "# Scenario: Program to divide two numbers\n",
    "\n",
    "try:\n",
    "    num1 = int(input(\"Enter the numerator: \"))\n",
    "    num2 = int(input(\"Enter the denominator: \"))\n",
    "\n",
    "    result = num1 / num2\n",
    "    print(\"Result:\", result)\n",
    "\n",
    "except ZeroDivisionError:\n",
    "    print(\"Error: Cannot divide by zero.\")\n",
    "except ValueError:\n",
    "    print(\"Error: Please enter valid integers.\")\n",
    "except Exception as e:\n",
    "    print(f\"An unexpected error occurred: {e}\")\n"
   ]
  },
  {
   "cell_type": "code",
   "execution_count": 16,
   "id": "2d63b587",
   "metadata": {},
   "outputs": [
    {
     "name": "stdout",
     "output_type": "stream",
     "text": [
      "Enter an integer: 19\n",
      "Successfully converted to integer: 19\n"
     ]
    }
   ],
   "source": [
    "# Scenario: Program to convert a string to an integer\n",
    "\n",
    "try:\n",
    "    user_input = input(\"Enter an integer: \")\n",
    "    num = int(user_input)\n",
    "    print(\"Successfully converted to integer:\", num)\n",
    "\n",
    "except ValueError:\n",
    "    print(\"Error: Invalid input. Please enter a valid integer.\")\n",
    "except Exception as e:\n",
    "    print(f\"An unexpected error occurred: {e}\")\n"
   ]
  },
  {
   "cell_type": "code",
   "execution_count": 18,
   "id": "1dc4c764",
   "metadata": {},
   "outputs": [
    {
     "name": "stdout",
     "output_type": "stream",
     "text": [
      "Enter the index to access: 3\n",
      "Element at index 3 is: 4\n"
     ]
    }
   ],
   "source": [
    "# Scenario: Program to access an element in a list\n",
    "\n",
    "try:\n",
    "    my_list = [1, 2, 3, 4, 5]\n",
    "    index = int(input(\"Enter the index to access: \"))\n",
    "\n",
    "    result = my_list[index]\n",
    "    print(\"Element at index\", index, \"is:\", result)\n",
    "\n",
    "except IndexError:\n",
    "    print(\"Error: Index is out of range.\")\n",
    "except ValueError:\n",
    "    print(\"Error: Please enter a valid integer for the index.\")\n",
    "except Exception as e:\n",
    "    print(f\"An unexpected error occurred: {e}\")\n"
   ]
  },
  {
   "cell_type": "code",
   "execution_count": 19,
   "id": "40a9be35",
   "metadata": {},
   "outputs": [
    {
     "name": "stdout",
     "output_type": "stream",
     "text": [
      "Caught a custom exception: This is a custom exception.\n"
     ]
    }
   ],
   "source": [
    "# Scenario: Program to handle a specific exception\n",
    "\n",
    "class CustomException(Exception):\n",
    "    pass\n",
    "\n",
    "try:\n",
    "    raise CustomException(\"This is a custom exception.\")\n",
    "\n",
    "except CustomException as ce:\n",
    "    print(f\"Caught a custom exception: {ce}\")\n",
    "except Exception as e:\n",
    "    print(f\"An unexpected error occurred: {e}\")\n"
   ]
  },
  {
   "cell_type": "code",
   "execution_count": 21,
   "id": "8cb8cf6d",
   "metadata": {},
   "outputs": [
    {
     "name": "stdout",
     "output_type": "stream",
     "text": [
      "Enter something: 34\n",
      "Converted to integer: 34\n"
     ]
    }
   ],
   "source": [
    "# Scenario: Program to handle any exception\n",
    "\n",
    "try:\n",
    "    user_input = input(\"Enter something: \")\n",
    "    result = int(user_input)\n",
    "    print(\"Converted to integer:\", result)\n",
    "\n",
    "except Exception as e:\n",
    "    print(f\"An exception occurred: {e}\")\n"
   ]
  },
  {
   "cell_type": "code",
   "execution_count": null,
   "id": "13211f69",
   "metadata": {},
   "outputs": [],
   "source": []
  }
 ],
 "metadata": {
  "kernelspec": {
   "display_name": "Python 3 (ipykernel)",
   "language": "python",
   "name": "python3"
  },
  "language_info": {
   "codemirror_mode": {
    "name": "ipython",
    "version": 3
   },
   "file_extension": ".py",
   "mimetype": "text/x-python",
   "name": "python",
   "nbconvert_exporter": "python",
   "pygments_lexer": "ipython3",
   "version": "3.9.13"
  }
 },
 "nbformat": 4,
 "nbformat_minor": 5
}
