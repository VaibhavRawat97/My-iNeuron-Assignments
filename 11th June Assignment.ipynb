{
 "cells": [
  {
   "cell_type": "markdown",
   "id": "a65c92b0",
   "metadata": {},
   "source": [
    "Q1. What is a lambda function in Python, and how does it differ from a regular function?"
   ]
  },
  {
   "cell_type": "markdown",
   "id": "1a51c7dc",
   "metadata": {},
   "source": [
    "Answer\n",
    "\n",
    "A lambda function in Python is a concise way to create anonymous functions, also known as lambda expressions. It allows you to define small, one-line functions without the need for a formal function definition. Lambda functions are often used for short-term operations where a full function definition would be unnecessary.\n",
    "\n",
    "Key characteristics of lambda functions:\n",
    "\n",
    "Anonymous: Lambda functions are anonymous, meaning they don't have a name. They are typically used for short-lived, specific tasks.\n",
    "\n",
    "Single Expression: Lambda functions can only contain a single expression. The result of this expression is implicitly returned.\n",
    "\n",
    "Conciseness: Lambda functions are concise and are often used for simple operations where a full function definition would be overkill."
   ]
  },
  {
   "cell_type": "markdown",
   "id": "85afc93e",
   "metadata": {},
   "source": [
    "Q2. Can a lambda function in Python have multiple arguments? If yes, how can you define and use\n",
    "them?"
   ]
  },
  {
   "cell_type": "markdown",
   "id": "f13a4fc4",
   "metadata": {},
   "source": [
    "Answer\n",
    "\n",
    "Yes, a lambda function in Python can have multiple arguments. \n",
    "Here's an example to illustrate the use of a lambda function with multiple arguments:"
   ]
  },
  {
   "cell_type": "code",
   "execution_count": 1,
   "id": "b451e39d",
   "metadata": {},
   "outputs": [
    {
     "name": "stdout",
     "output_type": "stream",
     "text": [
      "Result of addition: 8\n"
     ]
    }
   ],
   "source": [
    "# Lambda function with multiple arguments\n",
    "add = lambda x, y: x + y\n",
    "\n",
    "# Using the lambda function\n",
    "result = add(3, 5)\n",
    "\n",
    "print(\"Result of addition:\", result)\n"
   ]
  },
  {
   "cell_type": "markdown",
   "id": "3cd7670f",
   "metadata": {},
   "source": [
    "Q3. How are lambda functions typically used in Python? Provide an example use case."
   ]
  },
  {
   "cell_type": "markdown",
   "id": "3c3884d6",
   "metadata": {},
   "source": [
    "Answer\n",
    "\n",
    "Lambda functions in Python are typically used in situations where a small, anonymous function is needed for a short-term operation. They are commonly employed in functional programming constructs such as map, filter, and sorted, or as arguments to higher-order functions that expect a function as an input."
   ]
  },
  {
   "cell_type": "code",
   "execution_count": 2,
   "id": "2d708c16",
   "metadata": {},
   "outputs": [
    {
     "name": "stdout",
     "output_type": "stream",
     "text": [
      "Original numbers: [1, 2, 3, 4, 5]\n",
      "Squared numbers: [1, 4, 9, 16, 25]\n"
     ]
    }
   ],
   "source": [
    "# List of numbers\n",
    "numbers = [1, 2, 3, 4, 5]\n",
    "\n",
    "# Using lambda function with map to square each element\n",
    "squared_numbers = list(map(lambda x: x ** 2, numbers))\n",
    "\n",
    "print(\"Original numbers:\", numbers)\n",
    "print(\"Squared numbers:\", squared_numbers)\n"
   ]
  },
  {
   "cell_type": "markdown",
   "id": "252b69df",
   "metadata": {},
   "source": [
    "Q4. What are the advantages and limitations of lambda functions compared to regular functions in\n",
    "Python?"
   ]
  },
  {
   "cell_type": "markdown",
   "id": "d6fce2f9",
   "metadata": {},
   "source": [
    "Answer\n",
    "\n",
    "Advantages of Lambda Functions:\n",
    "\n",
    "Conciseness: Lambda functions are concise and allow you to define a simple function in a single line of code. This can make the code more readable, especially for short-term, specific tasks.\n",
    "\n",
    "Anonymous: Lambda functions are anonymous, meaning they don't have a name. This is useful when you need a function for a short duration and don't want to clutter your code with a named function.\n",
    "\n",
    "Functional Programming: Lambda functions are commonly used in functional programming constructs like map, filter, and sorted. They are well-suited for scenarios where a function is treated as a first-class citizen.\n",
    "\n",
    "Inline Definition: Lambda functions can be defined inline where they are used, reducing the need for separate function definitions.\n",
    "\n",
    "\n",
    "\n",
    "\n",
    "Limitations of Lambda Functions:\n",
    "\n",
    "Single Expression: Lambda functions are limited to a single expression. They are not suitable for complex tasks or functions with multiple statements.\n",
    "\n",
    "Limited Readability: While lambda functions are concise, they may become less readable for more complex operations. For complex logic, a regular function with a proper name and structure is often preferred.\n",
    "\n",
    "No Statements: Lambda functions can only contain expressions, not statements. This means you cannot use assignments or other statements within a lambda function.\n",
    "\n",
    "Limited Documentation: Lambda functions lack the ability to include docstrings, making it harder to provide detailed documentation for the function."
   ]
  },
  {
   "cell_type": "markdown",
   "id": "42c9c153",
   "metadata": {},
   "source": [
    "Q5. Are lambda functions in Python able to access variables defined outside of their own scope?\n",
    "Explain with an example."
   ]
  },
  {
   "cell_type": "markdown",
   "id": "67e004c3",
   "metadata": {},
   "source": [
    "Answer\n",
    "\n",
    "Yes, lambda functions in Python can access variables defined outside of their own scope. This is possible because lambda functions can capture variables from their surrounding environment through a mechanism called closure.\n",
    "\n",
    "Here's an example to illustrate how lambda functions can access variables from their outer scope:"
   ]
  },
  {
   "cell_type": "code",
   "execution_count": 3,
   "id": "dbd74c8b",
   "metadata": {},
   "outputs": [
    {
     "name": "stdout",
     "output_type": "stream",
     "text": [
      "Result: 15\n"
     ]
    }
   ],
   "source": [
    "# Variable defined in the outer scope\n",
    "outer_variable = 10\n",
    "\n",
    "# Lambda function accessing the outer variable\n",
    "lambda_function = lambda x: x + outer_variable\n",
    "\n",
    "# Using the lambda function\n",
    "result = lambda_function(5)\n",
    "\n",
    "print(\"Result:\", result)\n"
   ]
  },
  {
   "cell_type": "markdown",
   "id": "569ff312",
   "metadata": {},
   "source": [
    "Q6. Write a lambda function to calculate the square of a given number."
   ]
  },
  {
   "cell_type": "markdown",
   "id": "10e9e15c",
   "metadata": {},
   "source": [
    "Answer"
   ]
  },
  {
   "cell_type": "code",
   "execution_count": 4,
   "id": "5d33284e",
   "metadata": {},
   "outputs": [
    {
     "name": "stdout",
     "output_type": "stream",
     "text": [
      "The square of 5 is: 25\n"
     ]
    }
   ],
   "source": [
    "# Lambda function to calculate the square of a number\n",
    "square = lambda x: x ** 2\n",
    "\n",
    "# Example usage:\n",
    "number = 5\n",
    "result = square(number)\n",
    "\n",
    "print(f\"The square of {number} is: {result}\")\n"
   ]
  },
  {
   "cell_type": "markdown",
   "id": "581ae2b1",
   "metadata": {},
   "source": [
    "Q7. Create a lambda function to find the maximum value in a list of integers."
   ]
  },
  {
   "cell_type": "markdown",
   "id": "2c6da0d8",
   "metadata": {},
   "source": [
    "Answer"
   ]
  },
  {
   "cell_type": "code",
   "execution_count": 5,
   "id": "551f5a35",
   "metadata": {},
   "outputs": [
    {
     "name": "stdout",
     "output_type": "stream",
     "text": [
      "The maximum value in the list is: 23\n"
     ]
    }
   ],
   "source": [
    "# List of integers\n",
    "integer_list = [4, 12, 7, 23, 9, 15, 5]\n",
    "\n",
    "# Lambda function to find the maximum value\n",
    "find_max = lambda lst: max(lst)\n",
    "\n",
    "# Example usage:\n",
    "max_value = find_max(integer_list)\n",
    "\n",
    "print(f\"The maximum value in the list is: {max_value}\")\n"
   ]
  },
  {
   "cell_type": "markdown",
   "id": "4e8fa891",
   "metadata": {},
   "source": [
    "Q8. Implement a lambda function to filter out all the even numbers from a list of integers."
   ]
  },
  {
   "cell_type": "markdown",
   "id": "a62c8b39",
   "metadata": {},
   "source": [
    "Answer"
   ]
  },
  {
   "cell_type": "code",
   "execution_count": 6,
   "id": "0c16b02d",
   "metadata": {},
   "outputs": [
    {
     "name": "stdout",
     "output_type": "stream",
     "text": [
      "Original list: [1, 2, 3, 4, 5, 6, 7, 8, 9, 10]\n",
      "Filtered list (odd numbers only): [1, 3, 5, 7, 9]\n"
     ]
    }
   ],
   "source": [
    "# List of integers\n",
    "integer_list = [1, 2, 3, 4, 5, 6, 7, 8, 9, 10]\n",
    "\n",
    "# Lambda function to filter out even numbers\n",
    "filter_even = lambda lst: list(filter(lambda x: x % 2 != 0, lst))\n",
    "\n",
    "# Example usage:\n",
    "filtered_list = filter_even(integer_list)\n",
    "\n",
    "print(\"Original list:\", integer_list)\n",
    "print(\"Filtered list (odd numbers only):\", filtered_list)\n"
   ]
  },
  {
   "cell_type": "markdown",
   "id": "0d315447",
   "metadata": {},
   "source": [
    "Q9. Write a lambda function to sort a list of strings in ascending order based on the length of each\n",
    "string."
   ]
  },
  {
   "cell_type": "markdown",
   "id": "0434fab2",
   "metadata": {},
   "source": [
    "Answer"
   ]
  },
  {
   "cell_type": "code",
   "execution_count": 7,
   "id": "e102674a",
   "metadata": {},
   "outputs": [
    {
     "name": "stdout",
     "output_type": "stream",
     "text": [
      "Original list: ['apple', 'banana', 'kiwi', 'orange', 'grape']\n",
      "Sorted list based on length: ['kiwi', 'apple', 'grape', 'banana', 'orange']\n"
     ]
    }
   ],
   "source": [
    "# List of strings\n",
    "string_list = [\"apple\", \"banana\", \"kiwi\", \"orange\", \"grape\"]\n",
    "\n",
    "# Lambda function to sort strings based on length\n",
    "sort_by_length = lambda lst: sorted(lst, key=lambda x: len(x))\n",
    "\n",
    "# Example usage:\n",
    "sorted_strings = sort_by_length(string_list)\n",
    "\n",
    "print(\"Original list:\", string_list)\n",
    "print(\"Sorted list based on length:\", sorted_strings)\n"
   ]
  },
  {
   "cell_type": "markdown",
   "id": "125c169d",
   "metadata": {},
   "source": [
    "Q10. Create a lambda function that takes two lists as input and returns a new list containing the\n",
    "common elements between the two lists."
   ]
  },
  {
   "cell_type": "markdown",
   "id": "581db132",
   "metadata": {},
   "source": [
    "Answer"
   ]
  },
  {
   "cell_type": "code",
   "execution_count": 9,
   "id": "6fac73f2",
   "metadata": {},
   "outputs": [
    {
     "name": "stdout",
     "output_type": "stream",
     "text": [
      "List 1: [1, 2, 3, 4, 5]\n",
      "List 2: [3, 4, 5, 6, 7]\n",
      "Common elements: [3, 4, 5]\n"
     ]
    }
   ],
   "source": [
    "# Two lists\n",
    "list1 = [1, 2, 3, 4, 5]\n",
    "list2 = [3, 4, 5, 6, 7]\n",
    "\n",
    "# Lambda function to find common elements\n",
    "find_common_elements = lambda lst1, lst2: list(filter(lambda x: x in lst1, lst2))\n",
    "\n",
    "# Example usage:\n",
    "common_elements = find_common_elements(list1, list2)\n",
    "\n",
    "print(\"List 1:\", list1)\n",
    "print(\"List 2:\", list2)\n",
    "print(\"Common elements:\", common_elements)\n"
   ]
  },
  {
   "cell_type": "markdown",
   "id": "787f8994",
   "metadata": {},
   "source": [
    "Q11. Write a recursive function to calculate the factorial of a given positive integer."
   ]
  },
  {
   "cell_type": "markdown",
   "id": "692e378e",
   "metadata": {},
   "source": [
    "Answer"
   ]
  },
  {
   "cell_type": "code",
   "execution_count": 13,
   "id": "131d31c4",
   "metadata": {},
   "outputs": [
    {
     "name": "stdout",
     "output_type": "stream",
     "text": [
      "The factorial of 6 is: 720\n"
     ]
    }
   ],
   "source": [
    "def factorial(n):\n",
    "    # Base case: factorial of 0 is 1\n",
    "    if n == 0:\n",
    "        return 1\n",
    "    # Recursive case: n! = n * (n-1)!\n",
    "    else:\n",
    "        return n * factorial(n - 1)\n",
    "\n",
    "# Example usage:\n",
    "number = 6\n",
    "result = factorial(number)\n",
    "\n",
    "print(f\"The factorial of {number} is: {result}\")\n"
   ]
  },
  {
   "cell_type": "markdown",
   "id": "ae8e4cdb",
   "metadata": {},
   "source": [
    "Q12. Implement a recursive function to compute the nth Fibonacci number."
   ]
  },
  {
   "cell_type": "markdown",
   "id": "c4aca498",
   "metadata": {},
   "source": [
    "Answer"
   ]
  },
  {
   "cell_type": "code",
   "execution_count": 14,
   "id": "79e52512",
   "metadata": {},
   "outputs": [
    {
     "name": "stdout",
     "output_type": "stream",
     "text": [
      "The 7th Fibonacci number is: 13\n"
     ]
    }
   ],
   "source": [
    "def fibonacci(n):\n",
    "    # Base cases: Fib(0) = 0, Fib(1) = 1\n",
    "    if n == 0:\n",
    "        return 0\n",
    "    elif n == 1:\n",
    "        return 1\n",
    "    # Recursive case: Fib(n) = Fib(n-1) + Fib(n-2)\n",
    "    else:\n",
    "        return fibonacci(n - 1) + fibonacci(n - 2)\n",
    "\n",
    "# Example usage:\n",
    "term = 7\n",
    "result = fibonacci(term)\n",
    "\n",
    "print(f\"The {term}th Fibonacci number is: {result}\")\n"
   ]
  },
  {
   "cell_type": "markdown",
   "id": "e5a29f14",
   "metadata": {},
   "source": [
    "Q13. Create a recursive function to find the sum of all the elements in a given list."
   ]
  },
  {
   "cell_type": "markdown",
   "id": "88932325",
   "metadata": {},
   "source": [
    "Answer"
   ]
  },
  {
   "cell_type": "code",
   "execution_count": 15,
   "id": "4e5ce984",
   "metadata": {},
   "outputs": [
    {
     "name": "stdout",
     "output_type": "stream",
     "text": [
      "The sum of the elements in the list is: 15\n"
     ]
    }
   ],
   "source": [
    "def recursive_sum(lst):\n",
    "    # Base case: an empty list has a sum of 0\n",
    "    if not lst:\n",
    "        return 0\n",
    "    # Recursive case: sum of the first element + sum of the rest of the list\n",
    "    else:\n",
    "        return lst[0] + recursive_sum(lst[1:])\n",
    "\n",
    "# Example usage:\n",
    "numbers = [1, 2, 3, 4, 5]\n",
    "result = recursive_sum(numbers)\n",
    "\n",
    "print(f\"The sum of the elements in the list is: {result}\")\n"
   ]
  },
  {
   "cell_type": "markdown",
   "id": "feeba4a9",
   "metadata": {},
   "source": [
    "Q14. Write a recursive function to determine whether a given string is a palindrome."
   ]
  },
  {
   "cell_type": "markdown",
   "id": "97d786f1",
   "metadata": {},
   "source": [
    "Answer"
   ]
  },
  {
   "cell_type": "code",
   "execution_count": 16,
   "id": "e4d9fd4f",
   "metadata": {},
   "outputs": [
    {
     "name": "stdout",
     "output_type": "stream",
     "text": [
      "The string 'radar' is a palindrome.\n"
     ]
    }
   ],
   "source": [
    "def is_palindrome(s):\n",
    "    # Base case: an empty string or a string with a single character is a palindrome\n",
    "    if len(s) <= 1:\n",
    "        return True\n",
    "    # Recursive case: compare the first and last characters, and check the rest of the string\n",
    "    else:\n",
    "        return s[0] == s[-1] and is_palindrome(s[1:-1])\n",
    "\n",
    "# Example usage:\n",
    "word = \"radar\"\n",
    "result = is_palindrome(word)\n",
    "\n",
    "if result:\n",
    "    print(f\"The string '{word}' is a palindrome.\")\n",
    "else:\n",
    "    print(f\"The string '{word}' is not a palindrome.\")\n"
   ]
  },
  {
   "cell_type": "markdown",
   "id": "c33386ef",
   "metadata": {},
   "source": [
    "Q15. Implement a recursive function to find the greatest common divisor (GCD) of two positive integers."
   ]
  },
  {
   "cell_type": "markdown",
   "id": "5534f7e7",
   "metadata": {},
   "source": [
    "Answer"
   ]
  },
  {
   "cell_type": "code",
   "execution_count": 18,
   "id": "83e407e9",
   "metadata": {},
   "outputs": [
    {
     "name": "stdout",
     "output_type": "stream",
     "text": [
      "The GCD of 48 and 18 is: 6\n"
     ]
    }
   ],
   "source": [
    "def gcd(a, b):\n",
    "    # Base case: GCD(a, 0) = a\n",
    "    if b == 0:\n",
    "        return a\n",
    "    # Recursive case: GCD(a, b) = GCD(b, a % b)\n",
    "    else:\n",
    "        return gcd(b, a % b)\n",
    "\n",
    "# Example usage:\n",
    "num1 = 48\n",
    "num2 = 18\n",
    "result = gcd(num1, num2)\n",
    "\n",
    "print(f\"The GCD of {num1} and {num2} is: {result}\")\n"
   ]
  },
  {
   "cell_type": "code",
   "execution_count": null,
   "id": "874fd6f0",
   "metadata": {},
   "outputs": [],
   "source": []
  }
 ],
 "metadata": {
  "kernelspec": {
   "display_name": "Python 3 (ipykernel)",
   "language": "python",
   "name": "python3"
  },
  "language_info": {
   "codemirror_mode": {
    "name": "ipython",
    "version": 3
   },
   "file_extension": ".py",
   "mimetype": "text/x-python",
   "name": "python",
   "nbconvert_exporter": "python",
   "pygments_lexer": "ipython3",
   "version": "3.9.13"
  }
 },
 "nbformat": 4,
 "nbformat_minor": 5
}
