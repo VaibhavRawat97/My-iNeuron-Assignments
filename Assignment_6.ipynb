{
 "cells": [
  {
   "cell_type": "markdown",
   "id": "d3e181c5",
   "metadata": {},
   "source": [
    "# Python Basic-1"
   ]
  },
  {
   "cell_type": "code",
   "execution_count": 1,
   "id": "1e4ef119",
   "metadata": {},
   "outputs": [],
   "source": [
    "# Q.1. What are keywords in python? Using the keyword library, print all the python keywords."
   ]
  },
  {
   "cell_type": "code",
   "execution_count": 2,
   "id": "ddcd6c38",
   "metadata": {},
   "outputs": [
    {
     "name": "stdout",
     "output_type": "stream",
     "text": [
      "['False', 'None', 'True', '__peg_parser__', 'and', 'as', 'assert', 'async', 'await', 'break', 'class', 'continue', 'def', 'del', 'elif', 'else', 'except', 'finally', 'for', 'from', 'global', 'if', 'import', 'in', 'is', 'lambda', 'nonlocal', 'not', 'or', 'pass', 'raise', 'return', 'try', 'while', 'with', 'yield']\n"
     ]
    }
   ],
   "source": [
    "# Answer\n",
    "# Keywords are reserved words in Python and have special meaning. Each keyword performs a special/unique \n",
    "# function/task.\n",
    "import keyword\n",
    "all_keywords = keyword.kwlist\n",
    "print(all_keywords)"
   ]
  },
  {
   "cell_type": "code",
   "execution_count": 3,
   "id": "f10a97b6",
   "metadata": {},
   "outputs": [
    {
     "name": "stdout",
     "output_type": "stream",
     "text": [
      "[\n",
      "    \"False\",\n",
      "    \"None\",\n",
      "    \"True\",\n",
      "    \"__peg_parser__\",\n",
      "    \"and\",\n",
      "    \"as\",\n",
      "    \"assert\",\n",
      "    \"async\",\n",
      "    \"await\",\n",
      "    \"break\",\n",
      "    \"class\",\n",
      "    \"continue\",\n",
      "    \"def\",\n",
      "    \"del\",\n",
      "    \"elif\",\n",
      "    \"else\",\n",
      "    \"except\",\n",
      "    \"finally\",\n",
      "    \"for\",\n",
      "    \"from\",\n",
      "    \"global\",\n",
      "    \"if\",\n",
      "    \"import\",\n",
      "    \"in\",\n",
      "    \"is\",\n",
      "    \"lambda\",\n",
      "    \"nonlocal\",\n",
      "    \"not\",\n",
      "    \"or\",\n",
      "    \"pass\",\n",
      "    \"raise\",\n",
      "    \"return\",\n",
      "    \"try\",\n",
      "    \"while\",\n",
      "    \"with\",\n",
      "    \"yield\"\n",
      "]\n"
     ]
    }
   ],
   "source": [
    "import json\n",
    "organized_keywords = json.dumps(all_keywords, indent=4)\n",
    "print(organized_keywords)"
   ]
  },
  {
   "cell_type": "code",
   "execution_count": 4,
   "id": "5ba5b3b1",
   "metadata": {},
   "outputs": [],
   "source": [
    "# Q.2. What are the rules to create variables in python?"
   ]
  },
  {
   "cell_type": "code",
   "execution_count": 5,
   "id": "1ad06117",
   "metadata": {},
   "outputs": [],
   "source": [
    "# Answer\n",
    "# There are various rules to create variables in Python and in case these rules are broken,\n",
    "# ERRORS are ovserved in the output.\n",
    "# (i) Variable names can consist of letters, numbers, and underscores.\n",
    "# (ii) They must start with a letter or an underscore and not with a number.\n",
    "# (iii) Variable names are case-sensitive.\n",
    "# (iv) Python keywords cannot be used as variable names.\n",
    "# (v) Variable names cannot contain special characters like spaces,\n",
    "#     punctuation marks, or symbols except for underscores."
   ]
  },
  {
   "cell_type": "code",
   "execution_count": 6,
   "id": "87d40503",
   "metadata": {},
   "outputs": [],
   "source": [
    "# Q.3. What are the standards and conventions followed for the nomenclature of variables in\n",
    "#     python to improve code readability and maintainability?"
   ]
  },
  {
   "cell_type": "code",
   "execution_count": 7,
   "id": "4905a448",
   "metadata": {},
   "outputs": [],
   "source": [
    "# Answer\n",
    "# In Python, following naming standards and conventions is essential to improve code readability and maintainability.\n",
    "# Consistent and clear variable names make your code more understandable not only for you\n",
    "# but also for others who might read or work with your code.\n",
    "# Here are some common naming standards and conventions for variables in Python:\n",
    "# (i) Use Descriptive Names i.e, choose variable names that describe the purpose or content of the variable.\n",
    "#    This makes it easier for someone reading our code to understand what the variable represents.\n",
    "# (ii) Snake case is preferred over other styles e.g., camelCase or PascalCase in Python.\n",
    "# (iii) If you're working on a project or within a team,\n",
    "#    it's essential to respect any naming conventions or guidelines established for that specific project."
   ]
  },
  {
   "cell_type": "code",
   "execution_count": 8,
   "id": "1e7bd6a4",
   "metadata": {},
   "outputs": [],
   "source": [
    "# Q.4. What will happen if a keyword is used as a variable name?"
   ]
  },
  {
   "cell_type": "code",
   "execution_count": 9,
   "id": "674b4759",
   "metadata": {},
   "outputs": [
    {
     "ename": "SyntaxError",
     "evalue": "invalid syntax (1045680949.py, line 5)",
     "output_type": "error",
     "traceback": [
      "\u001b[1;36m  File \u001b[1;32m\"C:\\Users\\vaibh\\AppData\\Local\\Temp\\ipykernel_47488\\1045680949.py\"\u001b[1;36m, line \u001b[1;32m5\u001b[0m\n\u001b[1;33m    for = 75\u001b[0m\n\u001b[1;37m        ^\u001b[0m\n\u001b[1;31mSyntaxError\u001b[0m\u001b[1;31m:\u001b[0m invalid syntax\n"
     ]
    }
   ],
   "source": [
    "# Answer\n",
    "# If a keyword is used as a variable name in Python, it will result in a syntax error.\n",
    "# Python keywords are reserved words with specific meanings within the language,\n",
    "# and they cannot be used as identifiers for variables, functions, or any other naming purposes.For example:\n",
    "for = 75"
   ]
  },
  {
   "cell_type": "code",
   "execution_count": null,
   "id": "ab605d34",
   "metadata": {},
   "outputs": [],
   "source": [
    "# Q.5. For what purpose def keyword is used?"
   ]
  },
  {
   "cell_type": "code",
   "execution_count": 10,
   "id": "d7170d13",
   "metadata": {},
   "outputs": [],
   "source": [
    "# Answer\n",
    "# The def keyword in Python is used to define functions.Functions are blocks of reusable code\n",
    "# that perform a specific task or a set of tasks when called. Defining functions using the def keyword allows you\n",
    "# to encapsulate logic, make your code more organized, and promote code reusability. For example:\n",
    "def avg_of(a,b,c):\n",
    "    result = (a+b+c)/3\n",
    "    return result"
   ]
  },
  {
   "cell_type": "code",
   "execution_count": 11,
   "id": "dc6fa0d7",
   "metadata": {},
   "outputs": [
    {
     "name": "stdout",
     "output_type": "stream",
     "text": [
      "13.333333333333334\n"
     ]
    }
   ],
   "source": [
    "avg_value = avg_of(1,16,23)\n",
    "print(avg_value)"
   ]
  },
  {
   "cell_type": "code",
   "execution_count": 12,
   "id": "e021b1d1",
   "metadata": {},
   "outputs": [],
   "source": [
    "# Lets use def function in one more way.\n",
    "def USD_value(x):\n",
    "    result = x*80\n",
    "    return result"
   ]
  },
  {
   "cell_type": "code",
   "execution_count": 13,
   "id": "66829173",
   "metadata": {},
   "outputs": [
    {
     "name": "stdout",
     "output_type": "stream",
     "text": [
      "Value in Dollars:  67.975\n"
     ]
    }
   ],
   "source": [
    "user_input = input(\"Value in Dollars:  \")\n",
    "numeric_value = float(user_input)"
   ]
  },
  {
   "cell_type": "code",
   "execution_count": 14,
   "id": "109ed7e3",
   "metadata": {},
   "outputs": [
    {
     "name": "stdout",
     "output_type": "stream",
     "text": [
      "The value of USD 67.975 in Indian currency is 5438.0 Rupees\n"
     ]
    }
   ],
   "source": [
    "result = USD_value(numeric_value)\n",
    "print(f\"The value of USD {numeric_value} in Indian currency is {result} Rupees\")"
   ]
  },
  {
   "cell_type": "code",
   "execution_count": 15,
   "id": "ca5764b9",
   "metadata": {},
   "outputs": [],
   "source": [
    "# Q.6. What is the operation of this special character ‘\\’?"
   ]
  },
  {
   "cell_type": "code",
   "execution_count": 16,
   "id": "5e4e8376",
   "metadata": {},
   "outputs": [],
   "source": [
    "# Answer\n",
    "# The special character \\ in Python (and many other programming languages) is known as the \"backslash.\"\n",
    "# It serves several purposes, including escaping special characters and creating escape sequences.\n",
    "# Lets see it with an example."
   ]
  },
  {
   "cell_type": "code",
   "execution_count": 17,
   "id": "ea4217d4",
   "metadata": {},
   "outputs": [
    {
     "name": "stdout",
     "output_type": "stream",
     "text": [
      "Hi there I am Vaibhav.\n",
      "I am\t looking for a job\\\n"
     ]
    }
   ],
   "source": [
    "print(\"Hi there I am Vaibhav.\\nI am\\t looking for a job\\\\\")"
   ]
  },
  {
   "cell_type": "code",
   "execution_count": 18,
   "id": "d15e6925",
   "metadata": {},
   "outputs": [],
   "source": [
    "# Q.7. Give an example of the following conditions:\n",
    "# (i) Homogeneous list\n",
    "# (ii) Heterogeneous set\n",
    "# (iii) Homogeneous tuple"
   ]
  },
  {
   "cell_type": "code",
   "execution_count": 19,
   "id": "904013f5",
   "metadata": {},
   "outputs": [],
   "source": [
    "# Answer\n",
    "# (i) Homogeneous list:\n",
    "# A homogeneous list is a list where all elements are of the same data type.\n",
    "homogeneous_list = ['Name','Location','Time']"
   ]
  },
  {
   "cell_type": "code",
   "execution_count": 20,
   "id": "2c4bbff7",
   "metadata": {},
   "outputs": [],
   "source": [
    "# (ii) Heterogeneous Set:\n",
    "# A heterogeneous set is a set where elements can be of different data types.\n",
    "heterogeneous_set = {45,'Exercise',74.56,False}"
   ]
  },
  {
   "cell_type": "code",
   "execution_count": 21,
   "id": "7b0f024f",
   "metadata": {},
   "outputs": [],
   "source": [
    "# (iii) Homogeneous Tuple:\n",
    "# A homogeneous tuple is a tuple where all elements are of the same data type.\n",
    "homogeneous_tuple = ('Name','Place','Item')"
   ]
  },
  {
   "cell_type": "code",
   "execution_count": 22,
   "id": "39d5e89f",
   "metadata": {},
   "outputs": [],
   "source": [
    "# Q.8. Explain the mutable and immutable data types with proper explanation & examples."
   ]
  },
  {
   "cell_type": "code",
   "execution_count": 23,
   "id": "0f0e3dc2",
   "metadata": {},
   "outputs": [
    {
     "name": "stdout",
     "output_type": "stream",
     "text": [
      "['Tree', 15, 78.54, 'Word']\n"
     ]
    }
   ],
   "source": [
    "# Answer\n",
    "# Mutable data types\n",
    "ex_list = ['Tree',15,78.54]\n",
    "ex_list.append('Word')\n",
    "print(ex_list)"
   ]
  },
  {
   "cell_type": "code",
   "execution_count": 24,
   "id": "b387bfca",
   "metadata": {},
   "outputs": [
    {
     "name": "stdout",
     "output_type": "stream",
     "text": [
      "{True, 34.65, 'Weather', 'Intro', 85}\n"
     ]
    }
   ],
   "source": [
    "ex_set = {85,True,34.65,'Weather'}\n",
    "ex_set.add('Intro')\n",
    "print(ex_set)"
   ]
  },
  {
   "cell_type": "code",
   "execution_count": 25,
   "id": "ca8476e7",
   "metadata": {},
   "outputs": [
    {
     "name": "stdout",
     "output_type": "stream",
     "text": [
      "Vaibhav Rawat\n"
     ]
    }
   ],
   "source": [
    "# Immutable Data Types\n",
    "ex_string = \"Vaibhav\"\n",
    "ex_string += \" Rawat\"\n",
    "print(ex_string)"
   ]
  },
  {
   "cell_type": "code",
   "execution_count": 26,
   "id": "db2f2202",
   "metadata": {},
   "outputs": [
    {
     "name": "stdout",
     "output_type": "stream",
     "text": [
      "('Good', 54, 45.87)\n"
     ]
    }
   ],
   "source": [
    "ex_tuple = ('Good',54,45.87)\n",
    "print(ex_tuple)"
   ]
  },
  {
   "cell_type": "code",
   "execution_count": 3,
   "id": "3f170357",
   "metadata": {},
   "outputs": [],
   "source": [
    "# Q.9. Write a code to create the given structure using only for loop.\n",
    "#     *\n",
    "#    ***\n",
    "#   *****\n",
    "#  *******\n",
    "# *********"
   ]
  },
  {
   "cell_type": "code",
   "execution_count": 4,
   "id": "3d8f7fda",
   "metadata": {},
   "outputs": [
    {
     "name": "stdout",
     "output_type": "stream",
     "text": [
      "    *\n",
      "   ***\n",
      "  *****\n",
      " *******\n",
      "*********\n"
     ]
    }
   ],
   "source": [
    "# Answer\n",
    "\n",
    "rows = 5\n",
    "\n",
    "for i in range(1, rows + 1):\n",
    "    # Print spaces\n",
    "    for j in range(rows - i):\n",
    "        print(\" \", end=\"\")\n",
    "    \n",
    "    # Print asterisks\n",
    "    for k in range(2 * i - 1):\n",
    "        print(\"*\", end=\"\")\n",
    "    \n",
    "    # Move to the next line after each row\n",
    "    print()\n"
   ]
  },
  {
   "cell_type": "code",
   "execution_count": 5,
   "id": "7a1f492f",
   "metadata": {},
   "outputs": [],
   "source": [
    "# Q.10. Write a code to create the given structure using while loop.\n",
    "#      |||||||||\n",
    "#       |||||||\n",
    "#        |||||\n",
    "#         |||\n",
    "#          |"
   ]
  },
  {
   "cell_type": "code",
   "execution_count": 6,
   "id": "65817998",
   "metadata": {},
   "outputs": [
    {
     "name": "stdout",
     "output_type": "stream",
     "text": [
      "|||||||||\n",
      " |||||||\n",
      "  |||||\n",
      "   |||\n",
      "    |\n"
     ]
    }
   ],
   "source": [
    "# Answer\n",
    "rows = 5\n",
    "i = rows\n",
    "\n",
    "while i >= 1:\n",
    "    # Print spaces\n",
    "    spaces = rows - i\n",
    "    while spaces > 0:\n",
    "        print(\" \", end=\"\")\n",
    "        spaces -= 1\n",
    "    \n",
    "    # Print vertical bars\n",
    "    j = 2 * i - 1\n",
    "    while j > 0:\n",
    "        print(\"|\", end=\"\")\n",
    "        j -= 1\n",
    "    \n",
    "    # Move to the next line after each row\n",
    "    print()\n",
    "    \n",
    "    i -= 1\n"
   ]
  },
  {
   "cell_type": "code",
   "execution_count": null,
   "id": "b8cbcc07",
   "metadata": {},
   "outputs": [],
   "source": []
  }
 ],
 "metadata": {
  "kernelspec": {
   "display_name": "Python 3 (ipykernel)",
   "language": "python",
   "name": "python3"
  },
  "language_info": {
   "codemirror_mode": {
    "name": "ipython",
    "version": 3
   },
   "file_extension": ".py",
   "mimetype": "text/x-python",
   "name": "python",
   "nbconvert_exporter": "python",
   "pygments_lexer": "ipython3",
   "version": "3.9.13"
  }
 },
 "nbformat": 4,
 "nbformat_minor": 5
}
